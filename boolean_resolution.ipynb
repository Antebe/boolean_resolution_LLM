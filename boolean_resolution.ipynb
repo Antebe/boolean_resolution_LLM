{
  "nbformat": 4,
  "nbformat_minor": 0,
  "metadata": {
    "colab": {
      "provenance": [],
      "collapsed_sections": [
        "RjTiAdPbR88X"
      ]
    },
    "kernelspec": {
      "name": "python3",
      "display_name": "Python 3"
    },
    "language_info": {
      "name": "python"
    }
  },
  "cells": [
    {
      "cell_type": "code",
      "execution_count": 1,
      "metadata": {
        "id": "oz6YAHWGEAEL",
        "colab": {
          "base_uri": "https://localhost:8080/"
        },
        "outputId": "a8d26394-8899-4f36-868b-5b5b139abad4"
      },
      "outputs": [
        {
          "output_type": "stream",
          "name": "stdout",
          "text": [
            "\u001b[2K     \u001b[90m━━━━━━━━━━━━━━━━━━━━━━━━━━━━━━━━━━━━━━━━\u001b[0m \u001b[32m1.5/1.5 MB\u001b[0m \u001b[31m8.7 MB/s\u001b[0m eta \u001b[36m0:00:00\u001b[0m\n",
            "\u001b[2K     \u001b[90m━━━━━━━━━━━━━━━━━━━━━━━━━━━━━━━━━━━━━━━━\u001b[0m \u001b[32m220.8/220.8 kB\u001b[0m \u001b[31m13.7 MB/s\u001b[0m eta \u001b[36m0:00:00\u001b[0m\n",
            "\u001b[2K     \u001b[90m━━━━━━━━━━━━━━━━━━━━━━━━━━━━━━━━━━━━━━━━\u001b[0m \u001b[32m2.0/2.0 MB\u001b[0m \u001b[31m14.7 MB/s\u001b[0m eta \u001b[36m0:00:00\u001b[0m\n",
            "\u001b[2K     \u001b[90m━━━━━━━━━━━━━━━━━━━━━━━━━━━━━━━━━━━━━━━━\u001b[0m \u001b[32m75.0/75.0 kB\u001b[0m \u001b[31m7.0 MB/s\u001b[0m eta \u001b[36m0:00:00\u001b[0m\n",
            "\u001b[2K     \u001b[90m━━━━━━━━━━━━━━━━━━━━━━━━━━━━━━━━━━━━━━━━\u001b[0m \u001b[32m76.9/76.9 kB\u001b[0m \u001b[31m4.3 MB/s\u001b[0m eta \u001b[36m0:00:00\u001b[0m\n",
            "\u001b[2K     \u001b[90m━━━━━━━━━━━━━━━━━━━━━━━━━━━━━━━━━━━━━━━━\u001b[0m \u001b[32m58.3/58.3 kB\u001b[0m \u001b[31m5.9 MB/s\u001b[0m eta \u001b[36m0:00:00\u001b[0m\n",
            "\u001b[?25h\u001b[31mERROR: pip's dependency resolver does not currently take into account all the packages that are installed. This behaviour is the source of the following dependency conflicts.\n",
            "llmx 0.0.15a0 requires cohere, which is not installed.\u001b[0m\u001b[31m\n",
            "\u001b[2K     \u001b[90m━━━━━━━━━━━━━━━━━━━━━━━━━━━━━━━━━━━━━━━━\u001b[0m \u001b[32m42.3/42.3 kB\u001b[0m \u001b[31m1.2 MB/s\u001b[0m eta \u001b[36m0:00:00\u001b[0m\n",
            "\u001b[?25h"
          ]
        }
      ],
      "source": [
        "!pip install litellm --quiet\n",
        "!pip install deep-translator --quiet"
      ]
    },
    {
      "cell_type": "code",
      "source": [
        "gpt4 = True\n",
        "\n",
        "m = \"gpt-4\"\n",
        "if not gpt4:\n",
        "  m = \"gpt-3.5-turbo\""
      ],
      "metadata": {
        "id": "WlOs78BVFHqs"
      },
      "execution_count": 2,
      "outputs": []
    },
    {
      "cell_type": "markdown",
      "source": [
        "#Set up"
      ],
      "metadata": {
        "id": "It7XPjlRR6_a"
      }
    },
    {
      "cell_type": "code",
      "source": [
        "from litellm import completion\n",
        "from deep_translator import GoogleTranslator\n",
        "import os\n",
        "\n",
        "## set ENV variables\n",
        "os.environ[\"OPENAI_API_KEY\"] = \"\""
      ],
      "metadata": {
        "id": "dCWiH1XtM7-5"
      },
      "execution_count": 3,
      "outputs": []
    },
    {
      "cell_type": "code",
      "source": [
        "def answer(q):\n",
        "  messages = [{\"content\": q,\"role\": \"user\"}]\n",
        "  response = completion(model=m, messages=messages)\n",
        "  return response.choices[0].message.content"
      ],
      "metadata": {
        "id": "fUDo1p82Nhvu"
      },
      "execution_count": 4,
      "outputs": []
    },
    {
      "cell_type": "code",
      "source": [
        "truth = {\n",
        "    True: {\n",
        "        \"en\":\"Yes.\",\n",
        "        \"be\":\"Так.\",\n",
        "        \"ru\":\"Да.\",\n",
        "        \"uk\":\"Так.\"\n",
        "    },\n",
        "    False: {\n",
        "        \"en\":\"No.\",\n",
        "        \"be\":\"Не.\",\n",
        "        \"ru\":\"Нет.\",\n",
        "        \"uk\":\"Ні.\"\n",
        "    }\n",
        "}\n",
        "truth[True]['uk']"
      ],
      "metadata": {
        "colab": {
          "base_uri": "https://localhost:8080/",
          "height": 35
        },
        "id": "iVKu-1jbPRvP",
        "outputId": "8af02a10-eb1e-4b26-a694-ba559cc872c0"
      },
      "execution_count": 5,
      "outputs": [
        {
          "output_type": "execute_result",
          "data": {
            "text/plain": [
              "'Так.'"
            ],
            "application/vnd.google.colaboratory.intrinsic+json": {
              "type": "string"
            }
          },
          "metadata": {},
          "execution_count": 5
        }
      ]
    },
    {
      "cell_type": "code",
      "source": [
        "def translate(text, from_ =\"uk\", to=\"en\"):\n",
        "    to_translate = text\n",
        "    translated = GoogleTranslator(source=from_, target=to).translate(to_translate)\n",
        "    return translated"
      ],
      "metadata": {
        "id": "uZWU4WpUSBiq"
      },
      "execution_count": 6,
      "outputs": []
    },
    {
      "cell_type": "code",
      "source": [
        "translate(\"ти чи він\", from_ =\"uk\", to=\"en\")"
      ],
      "metadata": {
        "colab": {
          "base_uri": "https://localhost:8080/",
          "height": 35
        },
        "id": "2KyZMr5aYRQH",
        "outputId": "8f5f009d-db85-4899-9bc7-df191d63b438"
      },
      "execution_count": 7,
      "outputs": [
        {
          "output_type": "execute_result",
          "data": {
            "text/plain": [
              "'you or him'"
            ],
            "application/vnd.google.colaboratory.intrinsic+json": {
              "type": "string"
            }
          },
          "metadata": {},
          "execution_count": 7
        }
      ]
    },
    {
      "cell_type": "markdown",
      "source": [
        "# Response generation"
      ],
      "metadata": {
        "id": "Vy1V2nrS00uT"
      }
    },
    {
      "cell_type": "code",
      "source": [
        "from nltk import CFG\n",
        "from nltk.parse.generate import generate\n",
        "\n",
        "grammar = CFG.fromstring(\"\"\"\n",
        "  AndP -> AndPX | AndPX \" and \" AndPX\n",
        "  AndPX -> \" N \" | AndP \" and \" AndP\n",
        " \"\"\")\n",
        "#With this we \"create\" all the possible combinations\n",
        "grammar.productions()\n",
        "\n",
        "#Here you can see all the productions (sentences) with 5 words\n",
        "#created with this grammar\n",
        "possible_sequences = []\n",
        "i = 0\n",
        "for production in generate(grammar, depth = 5):\n",
        "  possible_sequences.append(''.join(production))\n",
        "  i += 1\n",
        "possible_sequences = list(set(possible_sequences))\n",
        "for p in possible_sequences:\n",
        "  print(p)"
      ],
      "metadata": {
        "colab": {
          "base_uri": "https://localhost:8080/"
        },
        "id": "ckVK2n4L05gk",
        "outputId": "5416e49c-edd9-4be8-f107-54606d42ed64"
      },
      "execution_count": 8,
      "outputs": [
        {
          "output_type": "stream",
          "name": "stdout",
          "text": [
            " N  and  N  and  N  and  N  and  N \n",
            " N  and  N  and  N \n",
            " N \n",
            " N  and  N  and  N  and  N \n",
            " N  and  N  and  N  and  N  and  N  and  N  and  N  and  N \n",
            " N  and  N  and  N  and  N  and  N  and  N \n",
            " N  and  N  and  N  and  N  and  N  and  N  and  N \n",
            " N  and  N \n"
          ]
        }
      ]
    },
    {
      "cell_type": "code",
      "source": [
        "grammar = CFG.fromstring(\"\"\"\n",
        "OrP -> \"(\" AndP \")\" | \"(\" AndP \" or \" AndP \")\"  | \"(\" AndP \" or \" OrPX \")\"\n",
        "OrPX -> \"(\" OrP  \")\"  | \"(\" OrP \" or \" OrP \")\"\n",
        "AndP -> \"(\" AndPX \" and \" AndPX \")\"  | \"(\" AndPX \")\"\n",
        "AndPX -> \"(N and N)\" | \"(N)\" | \"(\" AndP \")\"  | \"(N but not N)\" | \"(not N)\" | \"(not N but N)\"\n",
        " \"\"\")\n",
        "#With this we \"create\" all the possible combinations\n",
        "grammar.productions()\n",
        "\n",
        "#Here you can see all the productions (sentences) with 5 words\n",
        "#created with this grammar\n",
        "possible_sequences = []\n",
        "i = 0\n",
        "for production in generate(grammar, depth = 5):\n",
        "  possible_sequences.append(''.join(production))\n",
        "  i += 1\n",
        "possible_sequences = list(set(possible_sequences))\n",
        "# for p in possible_sequences:\n",
        "#   print(p)\n",
        "print(possible_sequences)"
      ],
      "metadata": {
        "colab": {
          "base_uri": "https://localhost:8080/"
        },
        "id": "3wsxkP4o3_3i",
        "outputId": "4c5cf44a-f2a6-4ae8-8518-e8b974681e25"
      },
      "execution_count": 122,
      "outputs": [
        {
          "output_type": "stream",
          "name": "stdout",
          "text": [
            "['(((not N) and (N)) or ((N and N) and (not N)))', '(((not N) and (not N but N)) or ((not N but N) and (N but not N)))', '(((not N but N) and (not N but N)) or ((not N but N)))', '(((not N but N) and (N but not N)) or ((not N) and (not N)))', '(((N but not N)) or ((N) and (N but not N)))', '(((N but not N) and (not N)) or ((N and N) and (N)))', '(((N and N) and (N and N)) or ((not N but N) and (N and N)))', '(((not N but N) and (N and N)) or ((not N but N) and (N and N)))', '(((N but not N) and (not N but N)))', '(((N and N) and (not N but N)) or ((not N) and (N but not N)))', '(((not N but N) and (N)) or ((N) and (N)))', '(((not N) and (not N)) or ((not N) and (not N but N)))', '(((N) and (N but not N)) or ((not N) and (not N but N)))', '(((N) and (N and N)) or ((N) and (N but not N)))', '(((N) and (not N)) or ((not N but N) and (not N)))', '(((N) and (not N but N)) or ((N and N) and (not N)))', '(((N and N) and (not N but N)) or ((not N but N)))', '(((not N) and (not N but N)) or ((N and N)))', '(((N and N) and (N)) or ((N but not N) and (not N)))', '(((not N) and (N but not N)))', '(((not N but N) and (not N)) or ((not N) and (N but not N)))', '(((not N)) or ((N) and (not N)))', '(((not N) and (N but not N)) or ((not N but N) and (N)))', '(((not N but N) and (not N but N)) or ((N and N) and (N and N)))', '(((not N) and (N but not N)) or ((N) and (N but not N)))', '(((not N but N) and (N but not N)) or ((not N but N) and (not N but N)))', '(((N) and (N but not N)) or ((not N but N) and (not N)))', '(((N and N) and (N)) or ((not N) and (N and N)))', '(((not N) and (N and N)) or ((not N) and (N)))', '(((not N) and (not N)) or ((N) and (N and N)))', '(((N and N) and (N)) or ((not N) and (N)))', '(((not N) and (not N)) or ((N but not N) and (N)))', '(((not N but N) and (N and N)) or ((N) and (not N)))', '(((N and N) and (N but not N)) or ((not N but N) and (N)))', '(((not N)) or ((N and N) and (not N but N)))', '(((N) and (N but not N)) or ((N but not N) and (not N)))', '(((not N) and (not N but N)) or ((N and N) and (N)))', '(((not N but N) and (N but not N)) or ((N but not N) and (not N but N)))', '(((not N) and (not N but N)) or ((N but not N) and (not N but N)))', '(((N and N) and (N but not N)) or ((N) and (not N)))', '(((not N) and (N but not N)) or ((N) and (N)))', '(((N but not N) and (N but not N)) or ((N) and (N but not N)))', '(((N)) or ((N and N) and (N and N)))', '(((not N but N) and (not N)) or ((N but not N) and (N and N)))', '(((N and N) and (not N)))', '(((N) and (N)) or ((not N) and (not N but N)))', '(((not N but N) and (N but not N)) or ((not N) and (N)))', '(((not N but N) and (N and N)) or ((not N) and (not N but N)))', '(((N and N) and (N and N)) or ((not N)))', '(((not N but N) and (not N)) or ((N and N)))', '(((not N) and (N and N)) or ((N and N) and (N and N)))', '(((N and N) and (N)) or ((N but not N)))', '(((N)) or ((not N but N) and (N and N)))', '(((N but not N) and (N)) or ((not N) and (N)))', '(((N and N) and (not N)) or ((not N but N) and (not N but N)))', '(((N) and (not N but N)) or ((not N but N) and (not N but N)))', '(((N) and (N)) or ((not N) and (N but not N)))', '(((N and N) and (not N)) or ((N) and (not N but N)))', '(((not N but N) and (N but not N)) or ((N) and (not N but N)))', '(((N but not N) and (not N)) or ((N) and (not N but N)))', '(((N) and (N)) or ((N and N) and (not N)))', '(((N but not N) and (not N)) or ((not N but N) and (N but not N)))', '(((not N but N) and (not N but N)) or ((N) and (not N)))', '(((N but not N) and (not N)) or ((not N) and (N but not N)))', '(((N and N) and (N but not N)) or ((N but not N) and (not N but N)))', '(((N and N) and (not N)) or ((N and N) and (N but not N)))', '(((N and N) and (not N)) or ((N) and (N)))', '(((N but not N) and (N and N)) or ((not N) and (not N)))', '(((not N) and (not N but N)) or ((N) and (N and N)))', '(((N and N) and (not N but N)) or ((not N) and (not N but N)))', '(((N but not N) and (N and N)) or ((N but not N) and (N but not N)))', '(((not N) and (not N)) or ((N) and (not N but N)))', '(((not N)) or ((not N but N)))', '(((N) and (N and N)) or ((N)))', '(((N) and (not N but N)) or ((N)))', '(((not N but N) and (not N)) or ((N and N) and (N)))', '(((not N but N) and (N and N)) or ((N but not N) and (not N)))', '(((N)) or ((not N but N) and (not N but N)))', '(((N) and (not N but N)) or ((not N but N) and (N and N)))', '(((N) and (N)) or ((N but not N) and (N and N)))', '(((not N but N) and (N and N)) or ((N) and (not N but N)))', '(((not N but N) and (N)) or ((not N but N) and (not N)))', '(((not N but N) and (N but not N)) or ((N but not N) and (N but not N)))', '(((not N) and (N and N)) or ((not N but N)))', '(((N and N) and (N)) or ((N and N) and (not N but N)))', '(((not N but N) and (not N but N)) or ((N) and (N and N)))', '(((not N but N) and (not N but N)) or ((not N but N) and (N and N)))', '(((N but not N)) or ((N) and (N and N)))', '(((not N) and (N but not N)) or ((N and N) and (N but not N)))', '(((not N but N) and (N)) or ((not N but N) and (N and N)))', '(((N and N)) or ((not N but N) and (not N but N)))', '(((N and N)))', '(((not N but N) and (N)) or ((N but not N) and (not N)))', '(((N but not N)) or ((not N) and (N and N)))', '(((not N but N) and (not N but N)) or ((N but not N) and (not N but N)))', '(((N but not N) and (N and N)) or ((N but not N) and (N)))', '(((N but not N)) or ((not N but N)))', '(((not N but N)) or ((not N but N) and (N but not N)))', '(((not N but N) and (not N but N)) or ((not N but N) and (N but not N)))', '(((N) and (N)) or ((N and N) and (not N but N)))', '(((N) and (N but not N)) or ((not N) and (N but not N)))', '(((N)) or ((not N but N)))', '(((N and N) and (N)) or ((N) and (N and N)))', '(((N but not N) and (N and N)) or ((N but not N) and (not N)))', '(((N) and (N)) or ((not N) and (not N)))', '(((N and N)) or ((N and N) and (not N)))', '(((N but not N) and (N and N)))', '(((N and N) and (N and N)) or ((N but not N) and (N and N)))', '(((N but not N) and (N but not N)) or ((not N) and (N and N)))', '(((not N but N) and (N)) or ((N but not N) and (not N but N)))', '(((not N but N) and (N)) or ((not N)))', '(((not N but N) and (not N)) or ((N and N) and (not N but N)))', '(((N but not N) and (N but not N)) or ((N and N) and (not N but N)))', '(((N but not N) and (N)))', '(((N but not N) and (N)) or ((not N) and (not N but N)))', '(((N) and (not N)) or ((N but not N) and (N and N)))', '(((not N but N) and (N but not N)) or ((not N but N) and (N)))', '(((N) and (N but not N)) or ((N) and (N and N)))', '(((N but not N) and (N and N)) or ((N)))', '(((not N but N) and (not N)) or ((not N but N) and (N but not N)))', '(((N and N) and (N and N)) or ((not N but N) and (N but not N)))', '(((N) and (N)) or ((N but not N) and (not N but N)))', '(((N and N) and (not N)) or ((N) and (not N)))', '(((not N but N) and (not N)) or ((N but not N) and (N but not N)))', '(((N) and (not N but N)) or ((not N) and (not N but N)))', '(((not N but N) and (not N)) or ((N)))', '(((N and N) and (N but not N)) or ((N and N) and (N but not N)))', '(((N)) or ((not N) and (N but not N)))', '(((N and N) and (N but not N)) or ((not N)))', '(((N and N) and (not N)) or ((N but not N) and (not N)))', '(((N) and (not N but N)) or ((not N) and (not N)))', '(((N and N) and (N)) or ((not N) and (N but not N)))', '(((N) and (not N)) or ((N and N) and (N and N)))', '(((N but not N) and (not N)) or ((N but not N) and (not N but N)))', '(((N but not N) and (not N but N)) or ((not N) and (N)))', '(((not N but N)) or ((not N but N) and (N)))', '(((N)) or ((N but not N) and (not N but N)))', '(((N) and (not N)) or ((not N but N) and (N but not N)))', '(((N and N) and (not N)) or ((N and N) and (N and N)))', '(((N but not N) and (N and N)) or ((N and N) and (N but not N)))', '(((not N but N) and (N and N)) or ((N but not N) and (N)))', '(((not N but N) and (not N but N)) or ((not N but N) and (not N)))', '(((N) and (not N)) or ((not N) and (not N)))', '(((N) and (N)) or ((not N)))', '(((N) and (N but not N)) or ((N but not N) and (not N but N)))', '(((N)) or ((not N but N) and (N)))', '(((N but not N) and (N and N)) or ((not N) and (N and N)))', '(((not N) and (N)) or ((N)))', '(((not N) and (not N but N)) or ((N) and (not N but N)))', '(((not N but N) and (N but not N)) or ((N and N) and (N and N)))', '(((N) and (N)) or ((N and N) and (N)))', '(((N but not N) and (not N but N)) or ((N) and (N and N)))', '(((N and N) and (not N but N)) or ((N and N)))', '(((not N) and (N)) or ((not N) and (not N but N)))', '(((not N but N) and (N)) or ((not N) and (N but not N)))', '(((not N but N) and (not N but N)) or ((N) and (N)))', '(((N but not N) and (N and N)) or ((N and N) and (N)))', '(((not N) and (N but not N)) or ((not N but N) and (not N but N)))', '(((N but not N) and (N and N)) or ((not N) and (N)))', '(((N)) or ((not N but N) and (N but not N)))', '(((N) and (N and N)) or ((N and N) and (not N but N)))', '(((not N but N) and (N and N)) or ((not N but N) and (not N)))', '(((N but not N) and (not N but N)) or ((not N) and (not N)))', '(((not N) and (not N but N)) or ((not N but N)))', '(((not N) and (N but not N)) or ((N but not N) and (not N but N)))', '(((not N) and (N but not N)) or ((not N) and (N but not N)))', '(((N and N) and (N)) or ((not N but N) and (N and N)))', '(((N) and (not N)) or ((not N but N) and (N)))', '(((not N but N) and (N)) or ((N but not N) and (N but not N)))', '(((not N)) or ((not N) and (not N but N)))', '(((N) and (N but not N)) or ((N but not N) and (N but not N)))', '(((N but not N) and (N but not N)) or ((not N) and (N)))', '(((not N) and (not N)) or ((not N) and (N)))', '(((not N but N) and (N)))', '(((not N) and (N)) or ((not N) and (N and N)))', '(((N but not N) and (not N)) or ((N and N) and (N but not N)))', '(((N and N)) or ((N) and (N but not N)))', '(((not N) and (N and N)) or ((not N but N) and (N)))', '(((N but not N) and (N and N)) or ((not N but N) and (N)))', '(((N but not N) and (not N but N)) or ((not N but N) and (not N)))', '(((N but not N) and (N)) or ((N and N) and (N but not N)))', '(((N but not N) and (N)) or ((N) and (not N but N)))', '(((not N but N) and (N and N)) or ((N)))', '(((not N but N) and (N but not N)) or ((N) and (N)))', '(((not N but N) and (not N but N)) or ((not N)))', '(((N) and (N but not N)) or ((N and N) and (N but not N)))', '(((N) and (N and N)) or ((N but not N) and (not N but N)))', '(((not N but N) and (N and N)) or ((N and N)))', '(((N but not N) and (N but not N)) or ((not N but N) and (not N)))', '(((N and N) and (N and N)) or ((N but not N) and (not N but N)))', '(((N and N) and (N)) or ((not N)))', '(((N and N) and (N)) or ((not N) and (not N but N)))', '(((not N) and (N but not N)) or ((not N)))', '(((not N but N) and (not N but N)) or ((N) and (N but not N)))', '(((N and N) and (N but not N)) or ((N)))', '(((not N but N) and (N and N)) or ((N but not N)))', '(((N but not N) and (N but not N)) or ((N but not N) and (N and N)))', '(((N but not N) and (N but not N)) or ((N and N)))', '(((not N) and (N and N)) or ((N and N) and (N but not N)))', '(((N and N) and (N and N)) or ((N and N) and (not N but N)))', '(((N but not N) and (N but not N)) or ((N)))', '(((not N but N) and (N)) or ((N and N) and (not N)))', '(((not N) and (N but not N)) or ((N and N) and (N and N)))', '(((N but not N) and (not N)) or ((not N but N) and (N)))', '(((N but not N) and (not N but N)) or ((N and N) and (N and N)))', '(((not N) and (N)) or ((N and N) and (N but not N)))', '(((N but not N) and (not N but N)) or ((N) and (N)))', '(((N and N)) or ((N but not N) and (not N)))', '(((not N)) or ((N and N) and (N)))', '(((not N but N) and (not N)) or ((not N) and (N)))', '(((N but not N) and (N)) or ((N but not N) and (not N)))', '(((N and N) and (N and N)) or ((N and N) and (N)))', '(((not N but N) and (N)) or ((N)))', '(((not N) and (not N)) or ((N) and (not N)))', '(((N and N) and (N but not N)) or ((N) and (N)))', '(((not N) and (not N but N)) or ((not N but N) and (N)))', '(((N and N)) or ((N and N) and (not N but N)))', '(((not N) and (N but not N)) or ((N but not N) and (N)))', '(((not N but N) and (N but not N)) or ((N and N)))', '(((not N but N) and (N and N)) or ((not N but N) and (not N but N)))', '(((N and N) and (not N)) or ((not N but N) and (N and N)))', '(((N) and (not N)) or ((N) and (N)))', '(((not N) and (N and N)) or ((N) and (not N but N)))', '(((not N) and (not N but N)) or ((not N but N) and (N and N)))', '(((not N but N) and (N but not N)) or ((not N but N) and (not N)))', '(((not N but N) and (not N)) or ((not N but N)))', '(((not N but N)) or ((N) and (N)))', '(((N but not N) and (N)) or ((not N but N) and (N but not N)))', '(((not N but N) and (N)) or ((N) and (N but not N)))', '(((N) and (not N but N)) or ((not N but N) and (not N)))', '(((N) and (N but not N)) or ((not N but N) and (N and N)))', '(((N but not N) and (not N but N)) or ((N and N) and (N but not N)))', '(((not N) and (not N)) or ((N but not N) and (not N)))', '(((N) and (not N)) or ((not N)))', '(((N) and (not N)) or ((N and N) and (not N)))', '(((N and N) and (not N but N)) or ((N) and (N and N)))', '(((not N) and (N but not N)) or ((N) and (not N)))', '(((N and N) and (not N but N)) or ((N) and (not N but N)))', '(((N) and (N but not N)) or ((N and N) and (N)))', '(((N and N) and (not N but N)) or ((not N but N) and (N and N)))', '(((N and N) and (N)) or ((not N but N) and (N)))', '(((N and N) and (not N but N)) or ((N) and (not N)))', '(((N) and (not N)) or ((not N but N)))', '(((not N but N) and (N but not N)) or ((N and N) and (N but not N)))', '(((N but not N) and (N and N)) or ((not N but N) and (not N but N)))', '(((not N) and (not N)) or ((not N) and (N but not N)))', '(((N)) or ((N and N) and (N)))', '(((N) and (not N but N)) or ((not N but N) and (N but not N)))', '(((N and N)) or ((not N but N) and (N and N)))', '(((N)) or ((N) and (N but not N)))', '(((N and N) and (not N but N)))', '(((N and N) and (N)) or ((N and N) and (N but not N)))', '(((N and N) and (not N)) or ((N and N) and (N)))', '(((not N) and (N)) or ((not N) and (N)))', '(((not N) and (N and N)) or ((not N)))', '(((not N but N) and (not N)) or ((N) and (N but not N)))', '(((N) and (N and N)) or ((not N)))', '(((not N) and (N but not N)) or ((not N) and (N and N)))', '(((N) and (N and N)) or ((not N) and (N and N)))', '(((not N) and (N and N)))', '(((N) and (N and N)) or ((not N) and (not N)))', '(((N but not N) and (N but not N)) or ((not N) and (not N but N)))', '(((N but not N) and (not N but N)) or ((N but not N) and (N but not N)))', '(((not N) and (N but not N)) or ((N but not N) and (N but not N)))', '(((N) and (N but not N)) or ((N) and (not N)))', '(((not N) and (not N but N)) or ((N and N) and (N and N)))', '(((not N) and (not N but N)) or ((not N but N) and (not N)))', '(((not N but N)) or ((N but not N) and (N but not N)))', '(((N) and (N)) or ((N but not N)))', '(((N and N) and (N and N)) or ((not N but N) and (not N)))', '(((N but not N) and (not N but N)) or ((not N but N) and (N but not N)))', '(((N and N) and (not N but N)) or ((not N but N) and (N but not N)))', '(((N and N) and (not N)) or ((not N) and (N and N)))', '(((not N) and (not N)) or ((not N but N) and (not N)))', '(((not N but N) and (not N but N)) or ((not N but N) and (not N but N)))', '(((not N)) or ((N) and (N and N)))', '(((not N)) or ((N but not N) and (not N)))', '(((N) and (N but not N)) or ((not N but N) and (N)))', '(((not N but N) and (N but not N)) or ((not N) and (N but not N)))', '(((not N) and (not N but N)) or ((N) and (N but not N)))', '(((N) and (N but not N)) or ((N) and (not N but N)))', '(((N and N) and (N and N)) or ((N) and (N and N)))', '(((N and N) and (N and N)) or ((N)))', '(((not N) and (N)) or ((N but not N) and (N but not N)))', '(((not N but N) and (N)) or ((not N) and (not N but N)))', '(((not N)) or ((not N) and (N and N)))', '(((N)) or ((N)))', '(((not N) and (N and N)) or ((N) and (N)))', '(((not N but N) and (N and N)) or ((N but not N) and (N and N)))', '(((N but not N)) or ((N and N) and (not N but N)))', '(((N) and (N)) or ((not N but N) and (not N but N)))', '(((not N) and (not N)) or ((not N but N) and (N)))', '(((not N but N)) or ((not N) and (N but not N)))', '(((not N but N) and (not N)) or ((N) and (N)))', '(((N) and (N and N)) or ((N but not N) and (not N)))', '(((N and N) and (N and N)) or ((N and N) and (not N)))', '(((not N) and (N but not N)) or ((N) and (N and N)))', '(((N but not N)) or ((not N but N) and (not N)))', '(((not N) and (N and N)) or ((not N but N) and (N and N)))', '(((N and N) and (not N)) or ((N) and (N but not N)))', '(((not N)) or ((N and N)))', '(((N) and (N but not N)) or ((not N but N)))', '(((not N) and (not N but N)) or ((N and N) and (N but not N)))', '(((not N) and (N)))', '(((N) and (not N)) or ((N but not N) and (not N but N)))', '(((N but not N) and (N)) or ((not N) and (N and N)))', '(((N but not N) and (N and N)) or ((N but not N) and (not N but N)))', '(((not N) and (not N)) or ((N)))', '(((not N but N) and (not N but N)) or ((not N) and (N but not N)))', '(((not N) and (not N but N)) or ((N) and (not N)))', '(((N) and (N and N)) or ((N and N) and (N and N)))', '(((N but not N)) or ((not N but N) and (N and N)))', '(((not N) and (not N but N)) or ((N and N) and (not N)))', '(((N and N) and (not N but N)) or ((N but not N) and (N and N)))', '(((not N but N) and (N and N)) or ((not N but N) and (N but not N)))', '(((not N)) or ((N but not N) and (N)))', '(((N) and (not N)) or ((N)))', '(((not N but N) and (N but not N)) or ((N but not N) and (N and N)))', '(((not N but N)) or ((N and N) and (not N)))', '(((N) and (N)) or ((N) and (not N but N)))', '(((N and N) and (N)) or ((N) and (not N)))', '(((not N) and (not N)) or ((N but not N)))', '(((not N but N) and (not N)) or ((not N) and (not N)))', '(((not N) and (N)) or ((N but not N) and (N)))', '(((not N) and (N)) or ((not N but N) and (not N)))', '(((not N but N)) or ((N but not N) and (not N but N)))', '(((not N but N) and (N and N)) or ((N and N) and (N)))', '(((not N but N)) or ((N and N)))', '(((N and N) and (not N but N)) or ((N but not N) and (N but not N)))', '(((not N) and (N)) or ((not N) and (N but not N)))', '(((N but not N) and (not N but N)) or ((N but not N) and (N)))', '(((not N) and (N and N)) or ((N but not N) and (N but not N)))', '(((N) and (not N)) or ((N and N) and (N)))', '(((N but not N)) or ((N but not N) and (not N but N)))', '(((not N) and (not N)) or ((not N but N) and (not N but N)))', '(((not N but N) and (N and N)) or ((N) and (N but not N)))', '(((not N) and (N and N)) or ((N)))', '(((not N)) or ((not N)))', '(((N but not N) and (N but not N)) or ((N but not N) and (N)))', '(((N and N) and (N)) or ((N but not N) and (N but not N)))', '(((N) and (N and N)) or ((N) and (N and N)))', '(((N) and (N but not N)) or ((N but not N)))', '(((N but not N) and (N and N)) or ((N and N) and (not N but N)))', '(((N and N)) or ((not N)))', '(((not N) and (not N but N)) or ((not N) and (N but not N)))', '(((N and N) and (not N)) or ((N but not N) and (N but not N)))', '(((N and N) and (N and N)) or ((not N but N)))', '(((N and N) and (not N but N)) or ((N) and (N)))', '(((N) and (N)) or ((not N but N) and (N but not N)))', '(((not N) and (N)) or ((N and N) and (N)))', '(((not N) and (not N but N)) or ((N but not N) and (N but not N)))', '(((N) and (N and N)) or ((N but not N) and (N)))', '(((N and N) and (N and N)) or ((N) and (N)))', '(((not N) and (not N)) or ((N and N) and (N)))', '(((not N but N) and (not N but N)) or ((N but not N) and (N and N)))', '(((N but not N) and (not N but N)) or ((N but not N) and (N and N)))', '(((N) and (N)) or ((N and N)))', '(((N and N) and (not N but N)) or ((N and N) and (not N but N)))', '(((not N)) or ((N but not N) and (N and N)))', '(((not N but N) and (N but not N)) or ((N) and (not N)))', '(((not N but N) and (not N)) or ((N but not N)))', '(((N but not N) and (N and N)) or ((N but not N) and (N and N)))', '(((N but not N) and (N)) or ((N but not N) and (N but not N)))', '(((N) and (not N but N)) or ((N and N) and (not N but N)))', '(((not N but N) and (N and N)) or ((not N but N) and (N)))', '(((not N) and (N and N)) or ((N but not N) and (N)))', '(((not N)) or ((not N but N) and (not N)))', '(((not N but N)) or ((not N but N) and (not N but N)))', '(((N and N) and (N but not N)) or ((not N but N)))', '(((not N) and (N but not N)) or ((N but not N)))', '(((N but not N) and (N)) or ((not N but N) and (not N but N)))', '(((not N) and (N and N)) or ((not N) and (not N)))', '(((not N) and (N but not N)) or ((not N but N) and (N but not N)))', '(((not N but N) and (not N)) or ((not N) and (N and N)))', '(((N but not N)) or ((not N) and (N but not N)))', '(((not N) and (N and N)) or ((N but not N) and (N and N)))', '(((not N but N) and (N and N)) or ((N) and (N)))', '(((N but not N)) or ((not N) and (N)))', '(((N) and (not N)) or ((not N but N) and (not N but N)))', '(((N but not N) and (N)) or ((N)))', '(((N)) or ((N but not N)))', '(((N and N) and (N and N)) or ((N and N)))', '(((N and N) and (N but not N)) or ((not N but N) and (not N)))', '(((not N) and (not N but N)) or ((N but not N) and (N)))', '(((N) and (N)) or ((not N but N) and (N and N)))', '(((N but not N) and (N)) or ((not N) and (N but not N)))', '(((N and N) and (not N)) or ((N and N) and (not N but N)))', '(((N) and (not N but N)) or ((N) and (not N)))', '(((not N)) or ((not N) and (N but not N)))', '(((N and N) and (N and N)) or ((N) and (not N)))', '(((N and N) and (N but not N)) or ((N but not N) and (N but not N)))', '(((N but not N) and (N and N)) or ((N but not N)))', '(((N but not N) and (N but not N)) or ((N) and (N and N)))', '(((N but not N) and (not N)) or ((N but not N) and (N and N)))', '(((N but not N) and (N but not N)) or ((N) and (not N)))', '(((not N) and (N)) or ((N but not N) and (not N)))', '(((N) and (not N)) or ((N and N)))', '(((N but not N) and (not N)) or ((N and N)))', '(((not N but N)) or ((not N) and (not N but N)))', '(((N but not N) and (not N but N)) or ((N and N) and (N)))', '(((N) and (N but not N)) or ((N and N)))', '(((not N) and (N)) or ((not N) and (not N)))', '(((N) and (N and N)) or ((N) and (N)))', '(((not N) and (not N but N)))', '(((not N but N) and (N but not N)) or ((N but not N) and (N)))', '(((N but not N) and (N and N)) or ((not N) and (not N but N)))', '(((N but not N) and (N but not N)) or ((not N but N) and (N and N)))', '(((N) and (N and N)) or ((N and N)))', '(((N but not N) and (N)) or ((N but not N)))', '(((N but not N) and (not N but N)) or ((N and N)))', '(((N and N) and (not N)) or ((not N)))', '(((N and N) and (N)) or ((N and N) and (not N)))', '(((N and N) and (N)) or ((N but not N) and (N and N)))', '(((not N but N)) or ((N)))', '(((N but not N) and (not N but N)) or ((N) and (not N)))', '(((not N but N) and (N)) or ((N) and (N and N)))', '(((N)))', '(((not N)))', '(((not N) and (N and N)) or ((not N but N) and (not N but N)))', '(((N but not N) and (N but not N)) or ((N but not N)))', '(((not N) and (N)) or ((N and N) and (not N but N)))', '(((N and N) and (N and N)) or ((N and N) and (N and N)))', '(((not N) and (N but not N)) or ((N but not N) and (not N)))', '(((N) and (not N)))', '(((N but not N) and (N but not N)) or ((not N) and (not N)))', '(((not N) and (not N)) or ((N but not N) and (N and N)))', '(((N) and (not N but N)) or ((N) and (N but not N)))', '(((N)) or ((N) and (N and N)))', '(((N and N) and (N but not N)) or ((not N) and (N and N)))', '(((N) and (N)) or ((N but not N) and (not N)))', '(((N but not N) and (not N)) or ((not N)))', '(((N but not N) and (not N but N)) or ((N) and (N but not N)))', '(((not N) and (not N)) or ((not N but N)))', '(((N but not N) and (not N)) or ((not N but N) and (N and N)))', '(((N and N) and (not N but N)) or ((N but not N) and (not N)))', '(((not N) and (N)) or ((N but not N) and (not N but N)))', '(((N) and (not N)) or ((not N) and (not N but N)))', '(((N) and (N but not N)) or ((not N) and (N and N)))', '(((N) and (N but not N)) or ((N but not N) and (N and N)))', '(((N and N) and (not N)) or ((not N but N)))', '(((N but not N) and (N)) or ((N and N) and (not N)))', '(((N but not N) and (not N but N)) or ((N but not N) and (not N)))', '(((not N but N) and (not N but N)) or ((not N) and (N)))', '(((N) and (N but not N)) or ((N and N) and (N and N)))', '(((not N but N)) or ((N and N) and (N but not N)))', '(((not N but N) and (not N)) or ((not N but N) and (N)))', '(((not N but N) and (N but not N)) or ((N)))', '(((N and N) and (not N but N)) or ((not N) and (not N)))', '(((N) and (not N)) or ((N but not N)))', '(((not N) and (N)) or ((not N but N) and (N and N)))', '(((not N) and (not N)) or ((N but not N) and (not N but N)))', '(((N) and (not N)) or ((not N but N) and (N and N)))', '(((N and N)) or ((not N) and (N and N)))', '(((not N) and (not N)) or ((N) and (N)))', '(((N and N) and (N and N)) or ((not N) and (N and N)))', '(((not N but N) and (N but not N)) or ((not N)))', '(((N but not N) and (N)) or ((N but not N) and (not N but N)))', '(((not N but N) and (not N but N)) or ((N but not N) and (N)))', '(((N and N)) or ((N but not N) and (not N but N)))', '(((N)) or ((N but not N) and (not N)))', '(((N but not N) and (not N)) or ((N but not N) and (not N)))', '(((N but not N) and (N and N)) or ((N and N) and (N and N)))', '(((not N)) or ((N and N) and (N and N)))', '(((N) and (N but not N)) or ((N and N) and (not N)))', '(((not N) and (not N but N)) or ((N but not N)))', '(((not N but N) and (N but not N)) or ((N) and (N and N)))', '(((not N)) or ((not N but N) and (N and N)))', '(((not N but N) and (N and N)) or ((N) and (N and N)))', '(((not N but N) and (N but not N)) or ((N but not N)))', '(((N) and (N)) or ((N but not N) and (N)))', '(((N and N) and (N)) or ((N and N) and (N and N)))', '(((N) and (not N but N)) or ((N) and (N)))', '(((not N) and (not N)) or ((not N but N) and (N and N)))', '(((N but not N)) or ((N but not N) and (not N)))', '(((N and N)) or ((N but not N) and (N)))', '(((not N but N) and (not N)) or ((N but not N) and (not N but N)))', '(((N and N) and (N but not N)) or ((not N) and (N)))', '(((N) and (N and N)) or ((N but not N) and (N but not N)))', '(((not N but N) and (not N)) or ((N and N) and (not N)))', '(((not N but N) and (N and N)) or ((not N) and (N and N)))', '(((not N but N) and (not N)) or ((not N but N) and (not N)))', '(((N and N)) or ((not N) and (N but not N)))', '(((N)) or ((N) and (not N)))', '(((not N but N) and (N)) or ((not N but N) and (not N but N)))', '(((N and N) and (not N but N)) or ((not N but N) and (N)))', '(((not N) and (N but not N)) or ((not N) and (N)))', '(((N)) or ((N and N)))', '(((N) and (not N)) or ((N) and (N but not N)))', '(((not N but N) and (N)) or ((N and N)))', '(((N) and (not N but N)) or ((N and N) and (N)))', '(((not N) and (N and N)) or ((not N) and (N and N)))', '(((not N but N) and (not N)) or ((N but not N) and (not N)))', '(((not N) and (N but not N)) or ((N and N) and (not N)))', '(((not N) and (N)) or ((N and N) and (N and N)))', '(((N but not N) and (N)) or ((not N but N) and (not N)))', '(((N but not N)) or ((N and N) and (N)))', '(((not N but N)) or ((N but not N) and (not N)))', '(((N and N) and (not N but N)) or ((N)))', '(((N but not N) and (not N but N)) or ((not N but N) and (not N but N)))', '(((not N but N) and (not N but N)) or ((N and N) and (N but not N)))', '(((N and N)) or ((N) and (not N but N)))', '(((not N) and (N and N)) or ((not N but N) and (not N)))', '(((N) and (not N but N)) or ((N) and (not N but N)))', '(((N but not N) and (N)) or ((N and N) and (N)))', '(((N but not N) and (not N)) or ((N but not N) and (N)))', '(((N but not N) and (not N)) or ((not N) and (N)))', '(((not N but N) and (N)) or ((N and N) and (N and N)))', '(((not N)) or ((N and N) and (N but not N)))', '(((not N but N) and (not N but N)) or ((N and N) and (N)))', '(((not N but N) and (not N)))', '(((N) and (N)) or ((N but not N) and (N but not N)))', '(((N but not N) and (N)) or ((not N) and (not N)))', '(((N but not N) and (N)) or ((not N but N) and (N and N)))', '(((N but not N) and (not N but N)) or ((N and N) and (not N)))', '(((N) and (N and N)) or ((N and N) and (not N)))', '(((not N but N) and (not N)) or ((not N but N) and (not N but N)))', '(((not N)) or ((N) and (N but not N)))', '(((not N but N)) or ((N) and (not N but N)))', '(((N) and (N but not N)) or ((not N)))', '(((N) and (not N but N)) or ((not N) and (N and N)))', '(((N but not N)) or ((N)))', '(((N but not N)) or ((not N) and (not N)))', '(((N but not N) and (N and N)) or ((N) and (N and N)))', '(((not N) and (N and N)) or ((N) and (N but not N)))', '(((N and N) and (not N)) or ((not N) and (N)))', '(((not N but N) and (N)) or ((N but not N)))', '(((not N)) or ((N)))', '(((N and N)) or ((N and N) and (N but not N)))', '(((N) and (N)) or ((N)))', '(((not N but N) and (N)) or ((not N but N)))', '(((N) and (not N but N)) or ((N but not N) and (not N)))', '(((N and N) and (not N but N)) or ((N but not N) and (N)))', '(((not N) and (N)) or ((N but not N) and (N and N)))', '(((not N) and (not N but N)) or ((N and N) and (not N but N)))', '(((N and N) and (not N)) or ((N) and (N and N)))', '(((N) and (N)) or ((N and N) and (N and N)))', '(((N and N)) or ((not N but N) and (N but not N)))', '(((N)) or ((not N) and (N)))', '(((N) and (N but not N)) or ((N) and (N but not N)))', '(((not N but N) and (not N)) or ((N) and (not N but N)))', '(((N and N) and (not N but N)) or ((N and N) and (N but not N)))', '(((N but not N) and (not N)) or ((N but not N) and (N but not N)))', '(((not N but N) and (not N but N)))', '(((N but not N) and (N but not N)) or ((not N but N) and (not N but N)))', '(((N and N)) or ((not N but N) and (not N)))', '(((N and N) and (N but not N)) or ((not N) and (N but not N)))', '(((N but not N) and (N and N)) or ((N) and (N but not N)))', '(((N and N) and (not N but N)) or ((N but not N) and (not N but N)))', '(((N and N) and (N)) or ((N) and (N but not N)))', '(((N) and (not N)) or ((N and N) and (not N but N)))', '(((N but not N) and (N and N)) or ((not N but N) and (N and N)))', '(((not N but N) and (N)) or ((N but not N) and (N and N)))', '(((not N) and (N)) or ((not N but N)))', '(((N) and (N and N)) or ((N but not N)))', '(((N but not N) and (N and N)) or ((not N but N)))', '(((N and N)) or ((not N but N) and (N)))', '(((not N) and (not N)) or ((N and N)))', '(((N but not N)) or ((not N but N) and (N)))', '(((N) and (N but not N)) or ((not N) and (not N)))', '(((N and N) and (N and N)) or ((not N) and (N but not N)))', '(((not N) and (N)) or ((N but not N)))', '(((not N) and (N but not N)) or ((not N) and (not N)))', '(((N but not N) and (N)) or ((N but not N) and (N and N)))', '(((N and N) and (N but not N)) or ((N but not N) and (N)))', '(((N) and (N)) or ((not N but N) and (not N)))', '(((not N) and (not N but N)) or ((N)))', '(((not N)) or ((N) and (not N but N)))', '(((N) and (not N but N)) or ((not N) and (N but not N)))', '(((not N but N) and (N but not N)) or ((N but not N) and (not N)))', '(((N but not N) and (not N but N)) or ((not N but N) and (N and N)))', '(((N but not N)) or ((N and N)))', '(((N and N) and (not N but N)) or ((not N)))', '(((N but not N) and (not N but N)) or ((not N) and (N but not N)))', '(((not N) and (N)) or ((N and N)))', '(((N and N) and (N but not N)))', '(((not N) and (N but not N)) or ((N) and (not N but N)))', '(((not N but N) and (N but not N)) or ((not N but N)))', '(((not N) and (N but not N)) or ((N and N) and (N)))', '(((not N but N) and (N but not N)) or ((N and N) and (not N)))', '(((N and N) and (not N but N)) or ((not N but N) and (not N but N)))', '(((N and N) and (N but not N)) or ((not N but N) and (N but not N)))', '(((not N but N) and (N)) or ((N and N) and (N)))', '(((N but not N) and (N)) or ((N and N) and (N and N)))', '(((N but not N) and (not N)) or ((N and N) and (not N)))', '(((N but not N)) or ((N and N) and (N but not N)))', '(((N)) or ((N but not N) and (N)))', '(((not N) and (N and N)) or ((N and N) and (not N)))', '(((N and N) and (N)) or ((not N but N) and (not N)))', '(((N and N) and (not N but N)) or ((N) and (N but not N)))', '(((N and N) and (not N)) or ((N but not N) and (not N but N)))', '(((N and N)) or ((N)))', '(((not N) and (N)) or ((N) and (N)))', '(((N and N)) or ((N and N) and (N and N)))', '(((N) and (not N)) or ((N but not N) and (N)))', '(((not N) and (N but not N)) or ((not N but N) and (N and N)))', '(((not N) and (N but not N)) or ((N and N)))', '(((N but not N) and (not N)) or ((not N but N)))', '(((N and N) and (N but not N)) or ((N and N)))', '(((not N) and (not N but N)) or ((N but not N) and (N and N)))', '(((not N but N)) or ((N but not N) and (N)))', '(((N) and (N but not N)) or ((N but not N) and (N)))', '(((N but not N) and (N but not N)) or ((N) and (not N but N)))', '(((not N) and (not N but N)) or ((not N)))', '(((N but not N) and (not N)))', '(((N but not N)))', '(((not N) and (N)) or ((not N but N) and (N)))', '(((not N but N) and (N and N)) or ((not N) and (N but not N)))', '(((not N but N) and (not N)) or ((N and N) and (N but not N)))', '(((not N but N) and (not N)) or ((not N) and (not N but N)))', '(((not N but N) and (N but not N)) or ((N) and (N but not N)))', '(((N) and (N and N)))', '(((not N but N) and (N but not N)) or ((not N) and (not N but N)))', '(((N but not N) and (not N but N)) or ((N and N) and (not N but N)))', '(((not N but N)))', '(((N) and (N)) or ((not N but N) and (N)))', '(((N but not N) and (N but not N)))', '(((not N but N) and (not N but N)) or ((not N) and (not N)))', '(((not N) and (N and N)) or ((not N) and (N but not N)))', '(((not N) and (N but not N)) or ((not N but N)))', '(((N and N) and (N but not N)) or ((N but not N)))', '(((N) and (not N but N)) or ((N but not N) and (N but not N)))', '(((N but not N) and (not N but N)) or ((N) and (not N but N)))', '(((N but not N) and (N but not N)) or ((not N)))', '(((not N) and (not N)) or ((not N) and (N and N)))', '(((N but not N) and (N but not N)) or ((N) and (N)))', '(((N) and (N but not N)) or ((not N) and (N)))', '(((N but not N) and (N but not N)) or ((N and N) and (N and N)))', '(((N and N) and (N but not N)) or ((N but not N) and (N and N)))', '(((N but not N) and (N but not N)) or ((N and N) and (not N)))', '(((N but not N) and (not N but N)) or ((N but not N) and (not N but N)))', '(((N)) or ((not N) and (not N but N)))', '(((N) and (not N)) or ((not N) and (N but not N)))', '(((not N but N)) or ((N and N) and (N)))', '(((N and N) and (not N)) or ((not N but N) and (N but not N)))', '(((not N)) or ((not N but N) and (N)))', '(((not N)) or ((N and N) and (not N)))', '(((not N)) or ((N but not N) and (not N but N)))', '(((N) and (not N)) or ((N but not N) and (N but not N)))', '(((not N) and (not N)) or ((N and N) and (not N)))', '(((N but not N) and (N)) or ((N) and (N)))', '(((not N but N)) or ((not N but N)))', '(((N and N) and (N)) or ((N and N) and (N)))', '(((N) and (N but not N)) or ((N) and (N)))', '(((not N but N) and (not N but N)) or ((not N) and (not N but N)))', '(((not N but N) and (N and N)) or ((N and N) and (N but not N)))', '(((not N) and (not N)) or ((N and N) and (N but not N)))', '(((N but not N) and (not N)) or ((N) and (not N)))', '(((not N) and (N)) or ((not N but N) and (not N but N)))', '(((N) and (N but not N)))', '(((N but not N) and (not N)) or ((N and N) and (not N but N)))', '(((not N) and (N and N)) or ((N and N) and (not N but N)))', '(((N) and (N)) or ((not N but N)))', '(((N and N)) or ((N but not N) and (N but not N)))', '(((not N but N) and (not N)) or ((N) and (not N)))', '(((N but not N) and (N and N)) or ((not N) and (N but not N)))', '(((N but not N) and (not N)) or ((N) and (N)))', '(((not N but N) and (not N but N)) or ((N) and (not N but N)))', '(((N but not N) and (N but not N)) or ((N but not N) and (not N)))', '(((not N) and (not N)) or ((N but not N) and (N but not N)))', '(((N)) or ((N and N) and (not N)))', '(((N but not N) and (not N)) or ((N)))', '(((N but not N) and (N and N)) or ((N and N)))', '(((N and N) and (N but not N)) or ((N and N) and (not N)))', '(((N and N) and (N but not N)) or ((N and N) and (N)))', '(((N) and (N and N)) or ((not N but N) and (N and N)))', '(((N and N) and (not N)) or ((N)))', '(((N) and (not N but N)) or ((not N)))', '(((not N but N) and (not N but N)) or ((N but not N)))', '(((not N) and (N but not N)) or ((N)))', '(((not N but N) and (not N but N)) or ((N)))', '(((N) and (N)) or ((N) and (N)))', '(((not N but N)) or ((not N) and (N)))', '(((N and N) and (N and N)) or ((not N) and (N)))', '(((N and N) and (N)) or ((N but not N) and (N)))', '(((N) and (N and N)) or ((N but not N) and (N and N)))', '(((N and N) and (N and N)) or ((N but not N) and (not N)))', '(((N and N) and (N and N)))', '(((N and N) and (N and N)) or ((N) and (N but not N)))', '(((N) and (N but not N)) or ((N and N) and (not N but N)))', '(((N) and (N)) or ((N) and (not N)))', '(((N) and (N but not N)) or ((not N but N) and (N but not N)))', '(((not N but N) and (not N but N)) or ((not N but N) and (N)))', '(((N and N) and (not N)) or ((N and N)))', '(((N but not N) and (N but not N)) or ((N and N) and (N but not N)))', '(((not N) and (N and N)) or ((N and N)))', '(((not N but N)) or ((N and N) and (N and N)))', '(((N and N) and (not N)) or ((not N but N) and (N)))', '(((not N but N)) or ((N) and (N and N)))', '(((not N) and (not N but N)) or ((not N but N) and (not N but N)))', '(((N but not N) and (not N)) or ((N and N) and (N and N)))', '(((not N but N) and (N)) or ((N and N) and (not N but N)))', '(((N but not N)) or ((not N) and (not N but N)))', '(((N and N) and (N but not N)) or ((N) and (N but not N)))', '(((not N) and (N and N)) or ((not N) and (not N but N)))', '(((not N)) or ((not N) and (not N)))', '(((N but not N) and (N)) or ((N and N)))', '(((not N but N)) or ((N) and (not N)))', '(((not N) and (N and N)) or ((N and N) and (N)))', '(((not N) and (N and N)) or ((N but not N) and (not N)))', '(((not N) and (N and N)) or ((N) and (not N)))', '(((not N) and (N but not N)) or ((not N) and (not N but N)))', '(((N but not N) and (N and N)) or ((N and N) and (not N)))', '(((N and N) and (not N but N)) or ((N and N) and (N)))', '(((not N) and (N but not N)) or ((N and N) and (not N but N)))', '(((N and N) and (N and N)) or ((N and N) and (N but not N)))', '(((N) and (not N but N)) or ((N but not N) and (not N but N)))', '(((not N but N) and (N and N)) or ((not N but N)))', '(((N but not N) and (N)) or ((N but not N) and (N)))', '(((N but not N)) or ((N but not N) and (N)))', '(((N and N) and (not N but N)) or ((N but not N)))', '(((not N) and (N and N)) or ((N but not N) and (not N but N)))', '(((N and N) and (N)) or ((N)))', '(((N) and (not N but N)) or ((not N) and (N)))', '(((N)) or ((N but not N) and (N and N)))', '(((N) and (N and N)) or ((not N but N)))', '(((not N but N) and (N)) or ((not N) and (not N)))', '(((N but not N)) or ((N but not N) and (N but not N)))', '(((N) and (not N)) or ((not N) and (N and N)))', '(((not N) and (N but not N)) or ((not N but N) and (not N)))', '(((not N but N)) or ((not N but N) and (not N)))', '(((not N but N)) or ((N but not N)))', '(((N and N) and (not N)) or ((not N) and (not N)))', '(((not N but N) and (N)) or ((N and N) and (N but not N)))', '(((N and N) and (N but not N)) or ((not N) and (not N)))', '(((N but not N) and (N but not N)) or ((not N but N) and (N but not N)))', '(((not N but N) and (N but not N)) or ((not N but N) and (N but not N)))', '(((N but not N) and (not N)) or ((N but not N)))', '(((not N) and (not N)) or ((not N)))', '(((N and N) and (not N)) or ((not N but N) and (not N)))', '(((N) and (not N)) or ((N) and (not N)))', '(((not N but N) and (N)) or ((not N) and (N)))', '(((N and N) and (N but not N)) or ((N and N) and (not N but N)))', '(((N and N) and (N)))', '(((not N) and (not N)) or ((not N) and (not N)))', '(((N) and (N but not N)) or ((not N but N) and (not N but N)))', '(((N) and (N)) or ((N) and (N and N)))', '(((N) and (not N)) or ((not N) and (N)))', '(((N but not N) and (N)) or ((N) and (N but not N)))', '(((N and N) and (N and N)) or ((not N but N) and (N)))', '(((N and N) and (N but not N)) or ((N) and (N and N)))', '(((N but not N) and (not N)) or ((N) and (N and N)))', '(((not N) and (N and N)) or ((not N but N) and (N but not N)))', '(((N and N) and (not N)) or ((N but not N) and (N)))', '(((N and N) and (not N but N)) or ((not N) and (N and N)))', '(((N but not N) and (not N)) or ((not N) and (not N)))', '(((N) and (not N)) or ((N) and (not N but N)))', '(((not N) and (not N but N)) or ((not N) and (N)))', '(((N)) or ((N and N) and (not N but N)))', '(((N but not N)) or ((not N but N) and (not N but N)))', '(((not N) and (N)) or ((not N but N) and (N but not N)))', '(((not N but N)) or ((N and N) and (not N but N)))', '(((N and N) and (N but not N)) or ((N but not N) and (not N)))', '(((N) and (not N but N)) or ((N and N)))', '(((not N) and (not N)) or ((N) and (N but not N)))', '(((N but not N) and (N but not N)) or ((not N but N)))', '(((not N but N) and (not N but N)) or ((N but not N) and (N but not N)))', '(((N but not N) and (N and N)) or ((not N)))', '(((N and N) and (N and N)) or ((N but not N) and (N)))', '(((N) and (not N but N)) or ((N but not N)))', '(((not N) and (not N but N)) or ((not N) and (not N)))', '(((not N) and (N and N)) or ((N but not N)))', '(((N and N)) or ((not N) and (not N but N)))', '(((N and N) and (N but not N)) or ((not N but N) and (not N but N)))', '(((N) and (N and N)) or ((not N but N) and (N)))', '(((not N but N) and (N and N)) or ((not N) and (not N)))', '(((N and N)) or ((N) and (N)))', '(((N)) or ((N and N) and (N but not N)))', '(((N but not N) and (not N)) or ((N) and (N but not N)))', '(((N) and (N)))', '(((N and N) and (N)) or ((not N but N)))', '(((not N) and (not N)) or ((N and N) and (N and N)))', '(((not N but N) and (N but not N)) or ((not N) and (N and N)))', '(((N)) or ((N but not N) and (N but not N)))', '(((N) and (not N but N)))', '(((N and N) and (N)) or ((N) and (not N but N)))', '(((N and N) and (not N but N)) or ((N and N) and (N and N)))', '(((N) and (N)) or ((not N) and (N and N)))', '(((N but not N) and (N but not N)) or ((not N but N) and (N)))', '(((N but not N) and (N but not N)) or ((N and N) and (N)))', '(((N but not N) and (not N but N)) or ((not N) and (N and N)))', '(((not N)) or ((not N) and (N)))', '(((N and N) and (not N)) or ((N but not N)))', '(((not N but N) and (not N)) or ((N but not N) and (N)))', '(((N and N) and (N but not N)) or ((N) and (not N but N)))', '(((N but not N) and (not N but N)) or ((N but not N)))', '(((N)) or ((N) and (N)))', '(((N) and (not N but N)) or ((N) and (N and N)))', '(((N) and (N and N)) or ((not N but N) and (N but not N)))', '(((not N but N) and (not N)) or ((N and N) and (N and N)))', '(((N) and (not N)) or ((N and N) and (N but not N)))', '(((N but not N)) or ((N) and (not N but N)))', '(((not N) and (not N)) or ((N and N) and (not N but N)))', '(((not N) and (not N)) or ((not N but N) and (N but not N)))', '(((N but not N)) or ((N and N) and (N and N)))', '(((N) and (N)) or ((not N) and (N)))', '(((N and N) and (N and N)) or ((N but not N)))', '(((N)) or ((not N) and (not N)))', '(((not N but N) and (N)) or ((not N) and (N and N)))', '(((not N but N) and (N)) or ((N) and (not N)))', '(((N and N)) or ((N but not N) and (N and N)))', '(((N but not N)) or ((N but not N)))', '(((N and N) and (N)) or ((N) and (N)))', '(((N and N) and (N but not N)) or ((N and N) and (N and N)))', '(((N and N) and (not N)) or ((N but not N) and (N and N)))', '(((not N)) or ((N but not N)))', '(((not N) and (N)) or ((N) and (N and N)))', '(((not N but N) and (not N but N)) or ((N but not N) and (not N)))', '(((N and N)) or ((N and N) and (N)))', '(((not N but N) and (N and N)) or ((N and N) and (not N but N)))', '(((not N but N)) or ((not N but N) and (N and N)))', '(((N) and (N and N)) or ((N) and (not N)))', '(((N) and (N but not N)) or ((N)))', '(((not N) and (not N but N)) or ((not N) and (not N but N)))', '(((N but not N) and (N but not N)) or ((not N) and (N but not N)))', '(((N and N) and (N but not N)) or ((not N) and (not N but N)))', '(((N but not N) and (N)) or ((N) and (N and N)))', '(((N but not N) and (not N but N)) or ((not N) and (not N but N)))', '(((N) and (not N but N)) or ((N but not N) and (N)))', '(((N but not N) and (not N but N)) or ((N)))', '(((N but not N) and (not N but N)) or ((not N)))', '(((N) and (not N but N)) or ((not N but N)))', '(((N) and (not N but N)) or ((N and N) and (N and N)))', '(((not N but N) and (N and N)) or ((N but not N) and (N but not N)))', '(((not N but N)) or ((not N) and (N and N)))', '(((not N but N) and (not N but N)) or ((N and N) and (not N but N)))', '(((not N but N) and (N and N)) or ((N but not N) and (not N but N)))', '(((N and N)) or ((N but not N)))', '(((not N)) or ((N but not N) and (N but not N)))', '(((N and N) and (not N)) or ((not N) and (N but not N)))', '(((not N but N) and (N but not N)) or ((not N but N) and (N and N)))', '(((N and N) and (N and N)) or ((not N) and (not N but N)))', '(((N) and (N and N)) or ((not N) and (N)))', '(((N)) or ((N) and (not N but N)))', '(((N and N) and (N but not N)) or ((not N but N) and (N and N)))', '(((N but not N) and (N and N)) or ((N) and (not N but N)))', '(((N but not N) and (N and N)) or ((not N but N) and (N but not N)))', '(((N but not N) and (N)) or ((not N but N) and (N)))', '(((not N) and (N)) or ((N) and (N but not N)))', '(((N) and (N and N)) or ((not N) and (N but not N)))', '(((N and N) and (not N)) or ((N and N) and (not N)))', '(((not N) and (N)) or ((N) and (not N but N)))', '(((not N but N) and (not N)) or ((not N)))', '(((N and N) and (not N but N)) or ((N and N) and (not N)))', '(((N but not N)) or ((not N but N) and (N but not N)))', '(((not N) and (N)) or ((N) and (not N)))', '(((N but not N) and (not N but N)) or ((not N but N)))', '(((N) and (N and N)) or ((N) and (not N but N)))', '(((N but not N) and (N)) or ((N and N) and (not N but N)))', '(((N and N)) or ((N) and (not N)))', '(((N and N) and (not N but N)) or ((not N) and (N)))', '(((N and N) and (N)) or ((not N but N) and (N but not N)))', '(((N but not N) and (not N)) or ((not N) and (not N but N)))', '(((N but not N) and (N)) or ((not N)))', '(((N) and (N and N)) or ((N and N) and (N)))', '(((N but not N) and (N)) or ((N) and (not N)))', '(((N and N) and (N and N)) or ((N) and (not N but N)))', '(((not N but N) and (N)) or ((N) and (not N but N)))', '(((not N but N) and (N but not N)))', '(((N and N) and (N)) or ((not N) and (not N)))', '(((not N but N) and (not N but N)) or ((N and N)))', '(((N but not N) and (N and N)) or ((not N but N) and (not N)))', '(((N and N) and (not N but N)) or ((not N but N) and (not N)))', '(((N but not N) and (N and N)) or ((N) and (N)))', '(((N) and (N and N)) or ((N and N) and (N but not N)))', '(((not N) and (N)) or ((not N)))', '(((N) and (N)) or ((N) and (N but not N)))', '(((N and N) and (N and N)) or ((N but not N) and (N but not N)))', '(((N and N)) or ((N) and (N and N)))', '(((not N)) or ((not N but N) and (not N but N)))', '(((N but not N) and (N)) or ((not N but N)))', '(((N but not N) and (N but not N)) or ((N but not N) and (N but not N)))', '(((not N) and (N but not N)) or ((N but not N) and (N and N)))', '(((not N but N) and (N and N)))', '(((N and N)) or ((N and N)))', '(((N) and (not N but N)) or ((N but not N) and (N and N)))', '(((N but not N)) or ((N but not N) and (N and N)))', '(((N and N) and (N)) or ((N and N)))', '(((N and N)) or ((not N) and (not N)))', '(((not N but N)) or ((N) and (N but not N)))', '(((N but not N) and (N and N)) or ((N) and (not N)))', '(((not N but N)) or ((N but not N) and (N and N)))', '(((not N but N) and (N and N)) or ((N and N) and (N and N)))', '(((not N but N) and (not N but N)) or ((not N) and (N and N)))', '(((N) and (not N but N)) or ((not N but N) and (N)))', '(((N) and (N and N)) or ((not N but N) and (not N)))', '(((not N but N) and (not N but N)) or ((N and N) and (not N)))', '(((not N) and (not N)))', '(((N) and (not N)) or ((N) and (N and N)))', '(((not N but N) and (not N)) or ((not N but N) and (N and N)))', '(((N but not N)) or ((N) and (not N)))', '(((N) and (N and N)) or ((not N but N) and (not N but N)))', '(((N) and (N)) or ((N and N) and (N but not N)))', '(((not N but N) and (N but not N)) or ((N and N) and (not N but N)))', '(((N and N)) or ((not N but N)))', '(((N but not N) and (N but not N)) or ((N but not N) and (not N but N)))', '(((N and N)) or ((not N) and (N)))', '(((not N but N) and (N but not N)) or ((N and N) and (N)))', '(((not N) and (N and N)) or ((N) and (N and N)))', '(((not N but N) and (N and N)) or ((not N)))', '(((N but not N)) or ((not N)))', '(((N and N) and (N and N)) or ((not N) and (not N)))', '(((not N but N) and (N)) or ((not N but N) and (N)))', '(((not N) and (not N but N)) or ((not N) and (N and N)))', '(((N)) or ((not N)))', '(((N) and (N and N)) or ((not N) and (not N but N)))', '(((N)) or ((not N but N) and (not N)))', '(((N but not N) and (not N)) or ((not N) and (N and N)))', '(((not N but N) and (N)) or ((not N but N) and (N but not N)))', '(((N and N) and (N)) or ((not N but N) and (not N but N)))', '(((not N but N) and (N and N)) or ((N and N) and (not N)))', '(((not N) and (not N but N)) or ((N but not N) and (not N)))', '(((N but not N)) or ((N) and (N)))', '(((N but not N) and (not N but N)) or ((not N but N) and (N)))', '(((N and N) and (N and N)) or ((not N but N) and (not N but N)))', '(((not N but N) and (not N)) or ((N) and (N and N)))', '(((N but not N) and (not N)) or ((not N but N) and (not N)))', '(((N and N) and (N)) or ((N but not N) and (not N but N)))', '(((N but not N)) or ((N and N) and (not N)))', '(((not N but N)) or ((not N)))', '(((N)) or ((not N) and (N and N)))', '(((not N)) or ((not N but N) and (N but not N)))', '(((not N)) or ((N) and (N)))', '(((not N but N) and (N and N)) or ((not N) and (N)))', '(((not N) and (not N but N)) or ((N) and (N)))', '(((N) and (not N but N)) or ((N and N) and (N but not N)))', '(((N) and (not N)) or ((N but not N) and (not N)))', '(((not N but N)) or ((not N) and (not N)))', '(((N and N) and (not N)) or ((not N) and (not N but N)))', '(((not N but N) and (N)) or ((N but not N) and (N)))', '(((N but not N) and (not N)) or ((not N but N) and (not N but N)))']\n"
          ]
        }
      ]
    },
    {
      "cell_type": "markdown",
      "source": [
        "#Boolean"
      ],
      "metadata": {
        "id": "vepWKh4DdGMJ"
      }
    },
    {
      "cell_type": "code",
      "source": [
        "def par1lev(s):\n",
        "  op = \"(\"\n",
        "  cl = \")\"\n",
        "  closure = -1\n",
        "  res_indicies = [0]\n",
        "  for i in range(len(s)):\n",
        "    if s[i] == op:\n",
        "      closure += 1\n",
        "      if closure == -1:\n",
        "        res_indicies.append(i)\n",
        "    if s[i] == cl:\n",
        "      closure -= 1\n",
        "      if closure == -1:\n",
        "        res_indicies.append(i)\n",
        "        if i+1!=len(s):\n",
        "          res_indicies.append(i+1)\n",
        "  return res_indicies"
      ],
      "metadata": {
        "id": "tNVqWOohsZfy"
      },
      "execution_count": 11,
      "outputs": []
    },
    {
      "cell_type": "code",
      "source": [
        "def evaluate_simple_expression(expr, values):\n",
        "    # Evaluates a simple boolean expression (without nested parentheses)\n",
        "    for var, val in values.items():\n",
        "        expr = expr.replace(var, str(val))\n",
        "    return eval(expr)\n",
        "\n",
        "def parse_b(expr, values):\n",
        "    indices = par1lev(expr)\n",
        "    if len(indices) <= 2:\n",
        "        return evaluate_simple_expression(expr, values)\n",
        "\n",
        "    # Recursively process each subexpression\n",
        "    while len(indices) > 2:\n",
        "        start = indices[1]\n",
        "        end = indices[2]\n",
        "        sub_expr = expr[start+1:end]\n",
        "        sub_val = parse_b(sub_expr, values)\n",
        "        expr = expr[:start] + str(sub_val) + expr[end+1:]\n",
        "        indices = par1lev(expr)\n",
        "\n",
        "    return evaluate_simple_expression(expr, values)\n",
        "\n",
        "# Example usage\n",
        "expr = \"((apple or (bag and cat)) and (not bag and not cat))\"\n",
        "values = {'apple': True, 'bag': False, 'cat':False}\n",
        "result = parse_b(expr, values)\n",
        "print(result)  # Expected output: True"
      ],
      "metadata": {
        "colab": {
          "base_uri": "https://localhost:8080/"
        },
        "id": "XvfZXjJAkygT",
        "outputId": "91836384-51a6-4d3b-829d-32a955e0e3b3"
      },
      "execution_count": 113,
      "outputs": [
        {
          "output_type": "stream",
          "name": "stdout",
          "text": [
            "True\n"
          ]
        }
      ]
    },
    {
      "cell_type": "code",
      "source": [
        "def make_plural_final(noun):\n",
        "    \"\"\"\n",
        "    This function converts a singular noun to its plural form with further corrections.\n",
        "    \"\"\"\n",
        "    # Nouns ending in -y preceded by a consonant, change the -y into -ies\n",
        "    if noun[-1] == \"y\" and noun[-2] not in \"aeiou\":\n",
        "        return noun[:-1] + \"ies\"\n",
        "    # Nouns ending in -s, -ss, -sh, -ch, -x, or -z, add -es\n",
        "    elif noun[-1] in \"sx\" or noun[-2:] in [\"ss\", \"sh\", \"ch\"]:\n",
        "        return noun + \"es\"\n",
        "    # Special case for nouns ending in -z\n",
        "    elif noun[-1] == \"z\":\n",
        "        return noun + \"zes\"\n",
        "    # For most other nouns, simply add -s\n",
        "    else:\n",
        "        return noun + \"s\"\n",
        "\n",
        "# Testing the final corrected function\n",
        "test_nouns_final = [\"cat\", \"dog\", \"bus\", \"wish\", \"fox\", \"quiz\", \"apple\", \"city\",\n",
        "    \"tree\", \"car\", \"house\", \"boat\", \"flower\", \"computer\", \"phone\", \"river\",\n",
        "    \"chair\", \"book\", \"pen\", \"desk\", \"chair\", \"school\", \"dog\", \"cat\",\n",
        "    \"bird\", \"fish\", \"ball\", \"game\", \"road\", \"window\", \"coat\"\n",
        "]"
      ],
      "metadata": {
        "id": "DZ_CyRC9vtEm"
      },
      "execution_count": 13,
      "outputs": []
    },
    {
      "cell_type": "code",
      "source": [
        "#type 1: conjunction\n",
        "import random\n",
        "import math\n",
        "\n",
        "def gen_conj(nouns, max=10):\n",
        "  n = random.randint(2, max)\n",
        "\n",
        "  truth = [0, 1]\n",
        "  truth_bias = [1, math.exp(max)/1000]\n",
        "  truth_list = [bool( random.choices(truth, weights=truth_bias, k=1)[0]) for i in range(n)]\n",
        "  noun_list = [nouns[random.randint(0, max-1)] for i in range(n)]\n",
        "  print(dict(zip(noun_list, truth_list)))"
      ],
      "metadata": {
        "id": "he1l_IqAwonK"
      },
      "execution_count": 106,
      "outputs": []
    },
    {
      "cell_type": "code",
      "source": [
        "gen_conj(test_nouns_final)"
      ],
      "metadata": {
        "colab": {
          "base_uri": "https://localhost:8080/"
        },
        "id": "767NE2C_xZmE",
        "outputId": "2b6bdc01-3d71-44d8-ecf2-f3a095446e4a"
      },
      "execution_count": 112,
      "outputs": [
        {
          "output_type": "stream",
          "name": "stdout",
          "text": [
            "{'car': True, 'tree': False, 'dog': True, 'fox': True, 'wish': True}\n"
          ]
        }
      ]
    },
    {
      "cell_type": "markdown",
      "source": [
        "# Test"
      ],
      "metadata": {
        "id": "RjTiAdPbR88X"
      }
    },
    {
      "cell_type": "code",
      "source": [
        "q = \\\n",
        "\"\"\"\n",
        "Andriy says: \"buy a candy and a cookie or a lollipop but not candy.\"\n",
        "Boris bought a cookie and a lollipop.\n",
        "Did Boris's purchase fully meet Andriy's requirements? Say briefly: \"yes\" or \"no\"\n",
        "\"\"\"\n",
        "answer(q)"
      ],
      "metadata": {
        "colab": {
          "base_uri": "https://localhost:8080/",
          "height": 0
        },
        "id": "7-k-C1eQM4ZP",
        "outputId": "2df9fc2e-117a-4912-eecd-9dbba7223293"
      },
      "execution_count": 16,
      "outputs": [
        {
          "output_type": "execute_result",
          "data": {
            "text/plain": [
              "'Yes'"
            ],
            "application/vnd.google.colaboratory.intrinsic+json": {
              "type": "string"
            }
          },
          "metadata": {},
          "execution_count": 16
        }
      ]
    },
    {
      "cell_type": "code",
      "source": [
        "answer(translate(q, from_ = \"en\", to=\"de\"))"
      ],
      "metadata": {
        "colab": {
          "base_uri": "https://localhost:8080/",
          "height": 0
        },
        "id": "NQY_StRvY2PZ",
        "outputId": "37f346ea-b461-4e8e-c64d-b4ca679c59cb"
      },
      "execution_count": 17,
      "outputs": [
        {
          "output_type": "execute_result",
          "data": {
            "text/plain": [
              "'Ja'"
            ],
            "application/vnd.google.colaboratory.intrinsic+json": {
              "type": "string"
            }
          },
          "metadata": {},
          "execution_count": 17
        }
      ]
    }
  ]
}