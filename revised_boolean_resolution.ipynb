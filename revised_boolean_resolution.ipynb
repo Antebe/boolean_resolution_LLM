{
  "nbformat": 4,
  "nbformat_minor": 0,
  "metadata": {
    "colab": {
      "provenance": [],
      "collapsed_sections": [
        "QlDekclGND5_",
        "Tz_2R3rZNZKp",
        "jcH2ydaLtEPr"
      ]
    },
    "kernelspec": {
      "name": "python3",
      "display_name": "Python 3"
    },
    "language_info": {
      "name": "python"
    }
  },
  "cells": [
    {
      "cell_type": "markdown",
      "source": [
        "# Set up"
      ],
      "metadata": {
        "id": "QlDekclGND5_"
      }
    },
    {
      "cell_type": "code",
      "source": [
        "from google.colab import drive\n",
        "drive.mount('/content/drive')"
      ],
      "metadata": {
        "colab": {
          "base_uri": "https://localhost:8080/"
        },
        "id": "lNLsc4_BvOA3",
        "outputId": "7cab7c0c-b740-48ca-8d73-aaba4c8395e3"
      },
      "execution_count": 352,
      "outputs": [
        {
          "output_type": "stream",
          "name": "stdout",
          "text": [
            "Mounted at /content/drive\n"
          ]
        }
      ]
    },
    {
      "cell_type": "code",
      "source": [
        "!pip install litellm --quiet\n",
        "!pip install deep-translator --quiet"
      ],
      "metadata": {
        "id": "ChO8WQn0NKw3"
      },
      "execution_count": 1,
      "outputs": []
    },
    {
      "cell_type": "code",
      "source": [
        "from litellm import completion\n",
        "from deep_translator import GoogleTranslator\n",
        "import os\n",
        "import math\n",
        "from nltk import CFG\n",
        "from nltk.parse.generate import generate\n",
        "import itertools\n",
        "import random\n",
        "import ast\n",
        "\n",
        "## set ENV variables\n",
        "os.environ[\"OPENAI_API_KEY\"] = \"\""
      ],
      "metadata": {
        "id": "OXoUYc-uNUe0"
      },
      "execution_count": 305,
      "outputs": []
    },
    {
      "cell_type": "code",
      "source": [
        "gpt4 = False\n",
        "\n",
        "m = \"gpt-4\"\n",
        "if not gpt4:\n",
        "  m = \"gpt-3.5-turbo\""
      ],
      "metadata": {
        "id": "gw98nvxONN9s"
      },
      "execution_count": 3,
      "outputs": []
    },
    {
      "cell_type": "code",
      "source": [
        "fruits = ['Apple', 'Apricot', 'Avocado', 'Banana', 'Blackberry', 'Blackcurrant', 'Blueberry', 'Cherry', 'Coconut', 'Date', 'Dragonfruit', 'Durian', 'Elderberry', 'Fig', 'Grape', 'Grapefruit', 'Guava', 'Jackfruit', 'Kiwifruit', 'Lemon', 'Lime', 'Lychee', 'Mango', 'Melon', 'Nectarine', 'Orange', 'Papaya', 'Passionfruit', 'Peach', 'Pear']"
      ],
      "metadata": {
        "id": "93o7q8LXAZMJ"
      },
      "execution_count": 148,
      "outputs": []
    },
    {
      "cell_type": "markdown",
      "source": [
        "#helper functions"
      ],
      "metadata": {
        "id": "Tz_2R3rZNZKp"
      }
    },
    {
      "cell_type": "code",
      "source": [
        "import numpy as np\n",
        "\n",
        "predicted = [1, 0, 0, 0]\n",
        "expected = [1, 1, 0, 0]\n",
        "\n",
        "def confusion_matrix(predicted, expected):\n",
        "  tp = sum(p*e for p, e in zip(predicted, expected)) # True positives\n",
        "  fp = sum(p*(1-e) for p, e in zip(predicted, expected)) # False positives\n",
        "  fn = sum((1-p)*e for p, e in zip(predicted, expected)) # False negatives\n",
        "  tn = sum((1-p)*(1-e) for p, e in zip(predicted, expected)) # True negatives\n",
        "\n",
        "  precision = tp / (tp + fp)\n",
        "  recall = tp / (tp + fn)\n",
        "  f1 = 0\n",
        "  if tp != 0:\n",
        "    f1 = (2*precision*recall) / (precision+recall)\n",
        "  accuracy = (tp + tn)/ (tp + tn + fp + fn)\n",
        "  return {\"precision\": precision, \"recall\":recall, \"f1\":f1, \"accuracy\":accuracy}\n",
        "\n",
        "confusion = confusion_matrix(predicted, expected)\n",
        "print(\"F1 Score: \", confusion['f1'])\n",
        "print(\"Recall: \", confusion['recall'])\n",
        "print(\"Precision: \", confusion[\"precision\"])\n",
        "print(\"Accuracy: \", confusion[\"accuracy\"])"
      ],
      "metadata": {
        "colab": {
          "base_uri": "https://localhost:8080/"
        },
        "id": "I5D37CEHy7Ft",
        "outputId": "aac60f4e-cdf3-4ab3-d400-f4a3bf90f9af"
      },
      "execution_count": 372,
      "outputs": [
        {
          "output_type": "stream",
          "name": "stdout",
          "text": [
            "F1 Score:  0.6666666666666666\n",
            "Recall:  0.5\n",
            "Precision:  1.0\n",
            "Accuracy:  0.75\n"
          ]
        }
      ]
    },
    {
      "cell_type": "code",
      "source": [
        "def answer(q):\n",
        "  messages = [{\"content\": q,\"role\": \"user\"}]\n",
        "  response = completion(model=m, messages=messages)\n",
        "  return response.choices[0].message.content"
      ],
      "metadata": {
        "id": "kiZU58NcNbc0"
      },
      "execution_count": 4,
      "outputs": []
    },
    {
      "cell_type": "code",
      "source": [
        "def translate(text, from_ =\"uk\", to=\"en\"):\n",
        "    to_translate = text\n",
        "    translated = GoogleTranslator(source=from_, target=to).translate(to_translate)\n",
        "    return translated\n",
        "translate(\"ти чи він\", from_ =\"uk\", to=\"en\")"
      ],
      "metadata": {
        "colab": {
          "base_uri": "https://localhost:8080/",
          "height": 35
        },
        "id": "szl4ORcPNT74",
        "outputId": "d2b0dca2-9509-41e0-8a4d-8220f9eab733"
      },
      "execution_count": 5,
      "outputs": [
        {
          "output_type": "execute_result",
          "data": {
            "text/plain": [
              "'you or him'"
            ],
            "application/vnd.google.colaboratory.intrinsic+json": {
              "type": "string"
            }
          },
          "metadata": {},
          "execution_count": 5
        }
      ]
    },
    {
      "cell_type": "code",
      "source": [
        "def count_nouns(s: str):\n",
        "  \"\"\"\n",
        "  Count 'N's in a string.\n",
        "  \"N or N and N\" -> 3\n",
        "  \"\"\"\n",
        "  counter = 0\n",
        "  for t in s:\n",
        "    if t == \"N\":\n",
        "      counter+=1\n",
        "  return counter"
      ],
      "metadata": {
        "id": "WuDxlsxBOMWy"
      },
      "execution_count": 133,
      "outputs": []
    },
    {
      "cell_type": "code",
      "source": [
        "def dot_product(vec1, vec2):\n",
        "    return sum(x * y for x, y in zip(vec1, vec2))\n",
        "\n",
        "def magnitude(vec):\n",
        "    return math.sqrt(sum(x**2 for x in vec))\n",
        "\n",
        "def cosine(vec1, vec2):\n",
        "    dot_prod = dot_product(vec1, vec2)\n",
        "    mag1 = magnitude(vec1)\n",
        "    mag2 = magnitude(vec2)\n",
        "\n",
        "    if mag1 == 0 or mag2 == 0:\n",
        "        return 0  # Avoid division by zero\n",
        "    return dot_prod / (mag1 * mag2)\n",
        "\n",
        "def coincidence(v1, v2):\n",
        "  assert len(v1) == len(v2)\n",
        "  counter = 0\n",
        "  for i in range(len(v1)):\n",
        "    counter += int(v1[i] == v2[i])\n",
        "  return float(counter/len(v1))"
      ],
      "metadata": {
        "id": "vOw6D3fjNm0a"
      },
      "execution_count": 311,
      "outputs": []
    },
    {
      "cell_type": "code",
      "source": [
        "cosine([0, 1, 1, 1], [0, 0, 0, 1])"
      ],
      "metadata": {
        "colab": {
          "base_uri": "https://localhost:8080/",
          "height": 0
        },
        "id": "dpWRotwuC-P3",
        "outputId": "0c20f2a6-f0d5-44c3-b34a-991b8292f3cb"
      },
      "execution_count": 160,
      "outputs": [
        {
          "output_type": "execute_result",
          "data": {
            "text/plain": [
              "0.5773502691896258"
            ]
          },
          "metadata": {},
          "execution_count": 160
        }
      ]
    },
    {
      "cell_type": "markdown",
      "source": [
        "## 4-way base (dnf, cnf, left-first, right-first)"
      ],
      "metadata": {
        "id": "jcH2ydaLtEPr"
      }
    },
    {
      "cell_type": "code",
      "source": [
        "#cnf\n",
        "expr = \"N and N or N and N or N or N and N\"\n",
        "\n",
        "def four_parenthesize(expr: str):\n",
        "  base = {\"dnf\":expr, #python default interpretation is DNF\n",
        "          \"cnf\":\"\",\n",
        "          \"left\":\"\",\n",
        "          \"right\":\"\"\n",
        "          }\n",
        "  #cnf break\n",
        "  exp = expr.split(\"and\")\n",
        "  res = \"\"\n",
        "  for i in range(len(exp)):\n",
        "    res += \" ( \"\n",
        "    res += exp[i]\n",
        "    res += \" ) \"\n",
        "    if i != len(exp) - 1:\n",
        "      res += \"and\"\n",
        "  base['cnf'] = res\n",
        "\n",
        "  #left_first break\n",
        "  exp = expr.split()\n",
        "  l = len(exp)\n",
        "  res = \"\"\n",
        "  if l < 3:\n",
        "    base['left'] = expr\n",
        "  else:\n",
        "    for j in range(int((l-1)/2)):\n",
        "      res+=\" ( \"\n",
        "    i = 0\n",
        "    res += exp[i]\n",
        "    res += \" \"\n",
        "    while i < l-2:\n",
        "      res+=exp[i+1]\n",
        "      res+=\" \"\n",
        "      res+=exp[i+2]\n",
        "      res+=\" ) \"\n",
        "      i+=2\n",
        "    base['left'] = res\n",
        "\n",
        "  #right generation\n",
        "  exp = expr.split()\n",
        "  l = len(exp)\n",
        "  res = \"\"\n",
        "  if l <= 3:\n",
        "    base['right'] = expr\n",
        "  else:\n",
        "      res += exp[0]\n",
        "      res += \" \"\n",
        "      res += exp[1]\n",
        "      i = 2\n",
        "      res += \" \"\n",
        "      while i < l-1:\n",
        "        res += \" ( \"\n",
        "        res+=exp[i]\n",
        "        res+=\" \"\n",
        "        res+=exp[i+1]\n",
        "        res+=\" \"\n",
        "        i+=2\n",
        "      res += exp[i]\n",
        "      for j in range(int((l-1)/2) - 1):\n",
        "        res += \" ) \"\n",
        "      base['right'] = res\n",
        "  return base"
      ],
      "metadata": {
        "id": "RiDXTWHltF6W"
      },
      "execution_count": 150,
      "outputs": []
    },
    {
      "cell_type": "code",
      "source": [
        "four_parenthesize(expr)"
      ],
      "metadata": {
        "colab": {
          "base_uri": "https://localhost:8080/",
          "height": 0
        },
        "id": "3IUTusPDuG0c",
        "outputId": "1b4c3207-a518-4ac7-b138-22ef758bdeda"
      },
      "execution_count": 152,
      "outputs": [
        {
          "output_type": "execute_result",
          "data": {
            "text/plain": [
              "{'dnf': 'N and N or N and N or N or N and N',\n",
              " 'cnf': ' ( N  ) and (  N or N  ) and (  N or N or N  ) and (  N ) ',\n",
              " 'left': ' (  (  (  (  (  ( N and N ) or N ) and N ) or N ) or N ) and N ) ',\n",
              " 'right': 'N and  ( N or  ( N and  ( N or  ( N or  ( N and N )  )  )  )  ) '}"
            ]
          },
          "metadata": {},
          "execution_count": 152
        }
      ]
    },
    {
      "cell_type": "markdown",
      "source": [
        "# Generate query"
      ],
      "metadata": {
        "id": "7FAhCe_qNrik"
      }
    },
    {
      "cell_type": "code",
      "source": [
        "# generate a string from the BNF\n",
        "def gen_grammar_sequences(grammar, d=5):\n",
        "    #With this we \"create\" all the possible combinations\n",
        "  grammar.productions()\n",
        "\n",
        "  #Here you can see all the productions (sentences) with 5 words\n",
        "  #created with this grammar\n",
        "  possible_sequences = []\n",
        "  i = 0\n",
        "  for production in generate(grammar, depth = d):\n",
        "    possible_sequences.append(''.join(production))\n",
        "    i += 1\n",
        "  possible_sequences = list(set(possible_sequences))\n",
        "  # for p in possible_sequences:\n",
        "  #   print(p)\n",
        "  return(possible_sequences)\n",
        "\n",
        "bool_expressions = CFG.fromstring(\"\"\"\n",
        "OrP -> AndP | AndP \" or \" OrP\n",
        "AndP -> \"N\" | \"N and \" AndP\n",
        " \"\"\")\n",
        "(gen_grammar_sequences(bool_expressions, d = 6))"
      ],
      "metadata": {
        "colab": {
          "base_uri": "https://localhost:8080/"
        },
        "id": "ln2RZSkkNv9E",
        "outputId": "0666e5f3-9196-48a8-c95a-ad5d88f31749"
      },
      "execution_count": 340,
      "outputs": [
        {
          "output_type": "execute_result",
          "data": {
            "text/plain": [
              "['N or N',\n",
              " 'N and N or N and N and N or N',\n",
              " 'N or N or N or N',\n",
              " 'N and N and N and N or N and N and N or N',\n",
              " 'N or N and N or N and N',\n",
              " 'N and N or N or N or N',\n",
              " 'N and N and N or N and N and N or N or N',\n",
              " 'N and N and N and N or N and N or N',\n",
              " 'N and N and N or N and N or N',\n",
              " 'N or N and N and N',\n",
              " 'N and N and N and N or N or N and N or N',\n",
              " 'N and N and N or N and N and N or N and N or N',\n",
              " 'N or N or N',\n",
              " 'N and N and N or N and N and N or N',\n",
              " 'N and N or N and N or N or N',\n",
              " 'N or N or N and N',\n",
              " 'N and N and N or N',\n",
              " 'N and N and N or N and N',\n",
              " 'N and N or N and N or N',\n",
              " 'N and N and N and N or N and N or N or N',\n",
              " 'N and N and N and N or N and N and N or N or N',\n",
              " 'N and N and N and N or N and N and N or N and N or N',\n",
              " 'N or N and N or N or N',\n",
              " 'N and N or N and N and N',\n",
              " 'N and N and N or N or N or N',\n",
              " 'N',\n",
              " 'N and N and N or N and N or N and N',\n",
              " 'N or N and N and N or N and N or N',\n",
              " 'N and N and N or N or N and N or N',\n",
              " 'N and N or N',\n",
              " 'N and N or N and N or N and N',\n",
              " 'N and N or N or N and N',\n",
              " 'N or N and N and N or N',\n",
              " 'N or N or N and N or N',\n",
              " 'N and N and N and N',\n",
              " 'N and N and N and N or N and N or N and N',\n",
              " 'N and N or N and N and N or N and N or N',\n",
              " 'N and N or N and N or N and N or N',\n",
              " 'N or N and N or N and N or N',\n",
              " 'N and N or N or N and N or N',\n",
              " 'N and N or N or N',\n",
              " 'N and N and N or N and N and N or N and N',\n",
              " 'N or N and N',\n",
              " 'N and N',\n",
              " 'N and N and N and N or N and N or N and N or N',\n",
              " 'N and N and N or N and N or N and N or N',\n",
              " 'N and N and N and N or N and N and N or N and N',\n",
              " 'N and N and N and N or N and N and N',\n",
              " 'N or N and N and N or N or N',\n",
              " 'N and N and N or N and N or N or N',\n",
              " 'N and N and N and N or N and N',\n",
              " 'N or N and N or N',\n",
              " 'N and N and N or N or N and N',\n",
              " 'N and N or N and N and N or N and N',\n",
              " 'N and N and N and N or N or N and N',\n",
              " 'N and N or N and N',\n",
              " 'N and N and N',\n",
              " 'N and N or N and N and N or N or N',\n",
              " 'N and N and N or N and N and N',\n",
              " 'N and N and N or N or N',\n",
              " 'N or N and N and N or N and N',\n",
              " 'N and N and N and N or N or N',\n",
              " 'N and N and N and N or N',\n",
              " 'N and N and N and N or N or N or N']"
            ]
          },
          "metadata": {},
          "execution_count": 340
        }
      ]
    },
    {
      "cell_type": "code",
      "source": [
        "def eval_expression(expr, values):\n",
        "    # Evaluates a simple boolean expression (without nested parentheses)\n",
        "    for var, val in values.items():\n",
        "        expr = expr.replace(var, str(val))\n",
        "    return eval(expr)\n",
        "\n",
        "# Example usage\n",
        "expr = \"(bag or cat) and (not bag or cat)\"\n",
        "values = {'apple': True, 'bag': True, 'cat':False}\n",
        "result = eval_expression(expr, values)\n",
        "print(result)  # Expected output: True"
      ],
      "metadata": {
        "colab": {
          "base_uri": "https://localhost:8080/"
        },
        "id": "WY4_JyJVQL8y",
        "outputId": "5a14f50b-18f0-4f7a-f552-e0955b01c7a9"
      },
      "execution_count": 341,
      "outputs": [
        {
          "output_type": "stream",
          "name": "stdout",
          "text": [
            "False\n"
          ]
        }
      ]
    },
    {
      "cell_type": "code",
      "source": [
        "def replace_nouns(s, nouns):\n",
        "  \"\"\"\n",
        "  (\"N or N\", [\"bag\", \"cat\"]) -> \"bag or cat\"\n",
        "  \"\"\"\n",
        "  ns = (nouns).copy()\n",
        "  assert count_nouns(s) == len(nouns)\n",
        "  s = s.split()\n",
        "  for i in range(len(s)):\n",
        "    if s[i] == \"N\":\n",
        "      s[i] = ns.pop()\n",
        "  return \" \".join(s)"
      ],
      "metadata": {
        "id": "aQl_wajgWzEX"
      },
      "execution_count": 342,
      "outputs": []
    },
    {
      "cell_type": "code",
      "source": [
        "def gen_all_combos(items):\n",
        "  \"\"\"\n",
        "  [\"cat\"] -> [cat, not cat]\n",
        "  \"\"\"\n",
        "  def negate(noun, neg=False):\n",
        "    if not neg:\n",
        "      return f\"not {noun}\"\n",
        "    return noun\n",
        "\n",
        "  n = len(items)\n",
        "  combinations = list(itertools.product([1, 0], repeat=n))\n",
        "  res = [[negate(items[i], neg=c[i]) for i in range(len(c))] for c in combinations]\n",
        "  return res"
      ],
      "metadata": {
        "id": "YHqaRi5uXbDO"
      },
      "execution_count": 343,
      "outputs": []
    },
    {
      "cell_type": "code",
      "source": [
        "def delete_neg(nouns):\n",
        "  def not_term(term):\n",
        "    return \"not\" in term\n",
        "  res = [k for k in nouns if not not_term(k)]\n",
        "  if not res:\n",
        "    return [\"nothing\"]\n",
        "  return res"
      ],
      "metadata": {
        "id": "RcWiSSvMRGZF"
      },
      "execution_count": 344,
      "outputs": []
    },
    {
      "cell_type": "markdown",
      "source": [
        "# null hypothesis"
      ],
      "metadata": {
        "id": "2kY6FOPcUKPO"
      }
    },
    {
      "cell_type": "code",
      "source": [
        "# Generate all combinations of True and False for n variables\n",
        "def find_vector(expr: str, nouns: list):\n",
        "  combinations = gen_all_combos(nouns)\n",
        "  vector = []\n",
        "  # Create the truth table\n",
        "  for combo in combinations:\n",
        "      e = replace_nouns(expr, combo)\n",
        "      res = eval_expression(e, dict(zip(nouns, len(nouns)*[True])))\n",
        "      vector.append(int(res))\n",
        "  return vector[::-1]"
      ],
      "metadata": {
        "id": "SKptayuMUJB8"
      },
      "execution_count": 345,
      "outputs": []
    },
    {
      "cell_type": "code",
      "source": [
        "find_vector(\"( N or N ) and ( N or N )\", [\"bag\", \"apple\", \"cat\", \"dog\"])"
      ],
      "metadata": {
        "colab": {
          "base_uri": "https://localhost:8080/"
        },
        "id": "7AXSitheVdhz",
        "outputId": "0d3cb058-f780-421d-a11f-5120f109cb82"
      },
      "execution_count": 346,
      "outputs": [
        {
          "output_type": "execute_result",
          "data": {
            "text/plain": [
              "[0, 0, 0, 0, 0, 1, 1, 1, 0, 1, 1, 1, 0, 1, 1, 1]"
            ]
          },
          "metadata": {},
          "execution_count": 346
        }
      ]
    },
    {
      "cell_type": "code",
      "source": [
        "def answer_qset(q, nouns):\n",
        "  res = []\n",
        "  q = f'Andre asked Boris: \"Please buy me: {q}\".\\\n",
        "  Boris bought {\", \".join(nouns)}. Did Boris meet Andre\\'s request? Oversatisfaction is allowed. Explain and write: 1 if \"yes\", 0 otherwise. write a number'\n",
        "  a = answer(q)\n",
        "  i = int(\"1\" in a)\n",
        "  res.append(i)\n",
        "  return {\"res\":res, \"q\": q, \"a\":a}"
      ],
      "metadata": {
        "id": "I8OBPUTUanuC"
      },
      "execution_count": 370,
      "outputs": []
    },
    {
      "cell_type": "markdown",
      "source": [
        "# test"
      ],
      "metadata": {
        "id": "sbwQDDBV_GPt"
      }
    },
    {
      "cell_type": "code",
      "source": [
        "s = \" N and N or N and N\"\n",
        "nouns = [\"banana\", \"apple\", \"pear\", \"bread\"]\n",
        "power_set = gen_all_combos(nouns)\n",
        "print(power_set)\n",
        "v = []\n",
        "for p in power_set[::-1]:\n",
        "  resp = answer_qset(replace_nouns(s, nouns), delete_neg(p))\n",
        "  print(resp)\n",
        "  v.append(resp['res'][0])"
      ],
      "metadata": {
        "colab": {
          "base_uri": "https://localhost:8080/",
          "height": 0
        },
        "id": "CgkM-RpAavTX",
        "outputId": "2251efa2-d05d-403f-b303-5ab539e00468"
      },
      "execution_count": 266,
      "outputs": [
        {
          "output_type": "stream",
          "name": "stdout",
          "text": [
            "[['banana', 'apple', 'pear', 'bread'], ['banana', 'apple', 'pear', 'not bread'], ['banana', 'apple', 'not pear', 'bread'], ['banana', 'apple', 'not pear', 'not bread'], ['banana', 'not apple', 'pear', 'bread'], ['banana', 'not apple', 'pear', 'not bread'], ['banana', 'not apple', 'not pear', 'bread'], ['banana', 'not apple', 'not pear', 'not bread'], ['not banana', 'apple', 'pear', 'bread'], ['not banana', 'apple', 'pear', 'not bread'], ['not banana', 'apple', 'not pear', 'bread'], ['not banana', 'apple', 'not pear', 'not bread'], ['not banana', 'not apple', 'pear', 'bread'], ['not banana', 'not apple', 'pear', 'not bread'], ['not banana', 'not apple', 'not pear', 'bread'], ['not banana', 'not apple', 'not pear', 'not bread']]\n",
            "{'res': [0], 'q': 'Andre asked Boris: \"Please buy me: bread and pear or apple and banana\".  Boris bought nothing. Did Boris meet Andre\\'s request? Oversatisfaction is allowed. Explain and write: 1 if \"yes\", 0 otherwise. You must write a number', 'a': '0'}\n",
            "{'res': [1], 'q': 'Andre asked Boris: \"Please buy me: bread and pear or apple and banana\".  Boris bought bread. Did Boris meet Andre\\'s request? Oversatisfaction is allowed. Explain and write: 1 if \"yes\", 0 otherwise. You must write a number', 'a': '1'}\n",
            "{'res': [0], 'q': 'Andre asked Boris: \"Please buy me: bread and pear or apple and banana\".  Boris bought pear. Did Boris meet Andre\\'s request? Oversatisfaction is allowed. Explain and write: 1 if \"yes\", 0 otherwise. You must write a number', 'a': '0'}\n",
            "{'res': [1], 'q': 'Andre asked Boris: \"Please buy me: bread and pear or apple and banana\".  Boris bought pear, bread. Did Boris meet Andre\\'s request? Oversatisfaction is allowed. Explain and write: 1 if \"yes\", 0 otherwise. You must write a number', 'a': \"The request from Andre was to buy either bread and pear or apple and banana. Boris bought pear and bread, which includes both bread and pear. Thus, Boris met Andre's request. \\n\\nTherefore, the answer is 1.\"}\n",
            "{'res': [0], 'q': 'Andre asked Boris: \"Please buy me: bread and pear or apple and banana\".  Boris bought apple. Did Boris meet Andre\\'s request? Oversatisfaction is allowed. Explain and write: 1 if \"yes\", 0 otherwise. You must write a number', 'a': '0'}\n",
            "{'res': [0], 'q': 'Andre asked Boris: \"Please buy me: bread and pear or apple and banana\".  Boris bought apple, bread. Did Boris meet Andre\\'s request? Oversatisfaction is allowed. Explain and write: 1 if \"yes\", 0 otherwise. You must write a number', 'a': '0'}\n",
            "{'res': [0], 'q': 'Andre asked Boris: \"Please buy me: bread and pear or apple and banana\".  Boris bought apple, pear. Did Boris meet Andre\\'s request? Oversatisfaction is allowed. Explain and write: 1 if \"yes\", 0 otherwise. You must write a number', 'a': '0'}\n",
            "{'res': [1], 'q': 'Andre asked Boris: \"Please buy me: bread and pear or apple and banana\".  Boris bought apple, pear, bread. Did Boris meet Andre\\'s request? Oversatisfaction is allowed. Explain and write: 1 if \"yes\", 0 otherwise. You must write a number', 'a': '1'}\n",
            "{'res': [0], 'q': 'Andre asked Boris: \"Please buy me: bread and pear or apple and banana\".  Boris bought banana. Did Boris meet Andre\\'s request? Oversatisfaction is allowed. Explain and write: 1 if \"yes\", 0 otherwise. You must write a number', 'a': \"No, Boris did not meet Andre's request. \\n\\n0\"}\n",
            "{'res': [0], 'q': 'Andre asked Boris: \"Please buy me: bread and pear or apple and banana\".  Boris bought banana, bread. Did Boris meet Andre\\'s request? Oversatisfaction is allowed. Explain and write: 1 if \"yes\", 0 otherwise. You must write a number', 'a': '0'}\n",
            "{'res': [1], 'q': 'Andre asked Boris: \"Please buy me: bread and pear or apple and banana\".  Boris bought banana, pear. Did Boris meet Andre\\'s request? Oversatisfaction is allowed. Explain and write: 1 if \"yes\", 0 otherwise. You must write a number', 'a': '1'}\n",
            "{'res': [1], 'q': 'Andre asked Boris: \"Please buy me: bread and pear or apple and banana\".  Boris bought banana, pear, bread. Did Boris meet Andre\\'s request? Oversatisfaction is allowed. Explain and write: 1 if \"yes\", 0 otherwise. You must write a number', 'a': '1'}\n",
            "{'res': [0], 'q': 'Andre asked Boris: \"Please buy me: bread and pear or apple and banana\".  Boris bought banana, apple. Did Boris meet Andre\\'s request? Oversatisfaction is allowed. Explain and write: 1 if \"yes\", 0 otherwise. You must write a number', 'a': '0'}\n",
            "{'res': [1], 'q': 'Andre asked Boris: \"Please buy me: bread and pear or apple and banana\".  Boris bought banana, apple, bread. Did Boris meet Andre\\'s request? Oversatisfaction is allowed. Explain and write: 1 if \"yes\", 0 otherwise. You must write a number', 'a': '1'}\n",
            "{'res': [1], 'q': 'Andre asked Boris: \"Please buy me: bread and pear or apple and banana\".  Boris bought banana, apple, pear. Did Boris meet Andre\\'s request? Oversatisfaction is allowed. Explain and write: 1 if \"yes\", 0 otherwise. You must write a number', 'a': '1'}\n",
            "{'res': [1], 'q': 'Andre asked Boris: \"Please buy me: bread and pear or apple and banana\".  Boris bought banana, apple, pear, bread. Did Boris meet Andre\\'s request? Oversatisfaction is allowed. Explain and write: 1 if \"yes\", 0 otherwise. You must write a number', 'a': '1'}\n"
          ]
        }
      ]
    },
    {
      "cell_type": "code",
      "source": [
        "print(v)\n",
        "print(\"-\")\n",
        "dnf = find_vector(\"( N and N ) or ( N and N ) \", nouns)\n",
        "cnf = find_vector(\"N and ( N or N ) and N \", nouns)\n",
        "left = find_vector(\"( ( N and  N ) or N ) and N \", nouns)\n",
        "right = find_vector(\" N and  ( N  or  ( N  and N ) )  \", nouns)\n",
        "\n",
        "print(dnf, cnf, left, right)"
      ],
      "metadata": {
        "colab": {
          "base_uri": "https://localhost:8080/",
          "height": 0
        },
        "id": "vt0CryB0choQ",
        "outputId": "52806b9f-ae3f-4aa7-f924-41ff24afb4d1"
      },
      "execution_count": 267,
      "outputs": [
        {
          "output_type": "stream",
          "name": "stdout",
          "text": [
            "[0, 1, 0, 1, 0, 0, 0, 1, 0, 0, 1, 1, 0, 1, 1, 1]\n",
            "-\n",
            "[0, 0, 0, 1, 0, 0, 0, 1, 0, 0, 0, 1, 1, 1, 1, 1] [0, 0, 0, 0, 0, 0, 0, 0, 0, 0, 0, 1, 0, 1, 0, 1] [0, 0, 0, 0, 0, 0, 0, 0, 0, 0, 0, 1, 1, 1, 1, 1] [0, 0, 0, 1, 0, 0, 0, 1, 0, 0, 0, 1, 0, 1, 0, 1]\n"
          ]
        }
      ]
    },
    {
      "cell_type": "code",
      "source": [
        "print(coincidence(v, dnf))\n",
        "print(coincidence(v, cnf))\n",
        "print(coincidence(v, left))\n",
        "print(coincidence(v, right))"
      ],
      "metadata": {
        "colab": {
          "base_uri": "https://localhost:8080/",
          "height": 0
        },
        "id": "HkwbEjY6ddHh",
        "outputId": "d047cdcf-6402-4e26-ae03-93149aa1724c"
      },
      "execution_count": 268,
      "outputs": [
        {
          "output_type": "stream",
          "name": "stdout",
          "text": [
            "0.8125\n",
            "0.6875\n",
            "0.6875\n",
            "0.8125\n"
          ]
        }
      ]
    },
    {
      "cell_type": "code",
      "source": [
        "def insert_logical_brackets(expr):\n",
        "    expr = expr.replace(\"not N\", \"notN\")\n",
        "    elements = expr.split()\n",
        "    if len(elements) < 3:\n",
        "        expr = expr.replace(\"notN\", \"not N\")\n",
        "        return [expr]\n",
        "\n",
        "    def recurse(elements):\n",
        "        if len(elements) < 3:\n",
        "            return [' '.join(elements).replace(\"notN\", \"not N\")]\n",
        "\n",
        "        results = set()\n",
        "        for i in range(0, len(elements) - 2, 2):\n",
        "            for j in range(i + 3, len(elements) + 1, 2):\n",
        "                new_elements = elements[:i] + ['( ' + ' '.join(elements[i:j]) + ' )'] + elements[j:]\n",
        "                results.add(' '.join(new_elements).replace(\"notN\", \"not N\"))\n",
        "                results.update(recurse(new_elements))\n",
        "\n",
        "        return results\n",
        "\n",
        "    return list(recurse(elements))\n",
        "\n",
        "\n",
        "complex_expr = \"N or N and not N or N and N\"\n",
        "combinations = insert_logical_brackets(complex_expr)\n",
        "len(combinations)"
      ],
      "metadata": {
        "colab": {
          "base_uri": "https://localhost:8080/",
          "height": 0
        },
        "id": "sKTze9GKGLgO",
        "outputId": "a0272749-7a76-4a3e-ce1d-dcc58a3bb1fa"
      },
      "execution_count": 269,
      "outputs": [
        {
          "output_type": "execute_result",
          "data": {
            "text/plain": [
              "89"
            ]
          },
          "metadata": {},
          "execution_count": 269
        }
      ]
    },
    {
      "cell_type": "code",
      "source": [
        "from collections import defaultdict\n",
        "\n",
        "def unique_parsings(ns, expr): #ns = nouns, expr - an expression w/o brackets\n",
        "    combs = insert_logical_brackets(expr)\n",
        "    res = list()\n",
        "    for c in combs:\n",
        "      res.append(str(find_vector(c, ns)))\n",
        "\n",
        "    distinct = set(res)\n",
        "    log_sent = list()\n",
        "    dct = defaultdict(list)\n",
        "    for c in combs:\n",
        "        eval_ = str(find_vector(c, ns))\n",
        "        dct[eval_] = c\n",
        "        # dct[eval_].append(c)\n",
        "        # if eval_ in distinct:\n",
        "        #     log_sent.append(c)\n",
        "        #     distinct.remove(eval_)\n",
        "    return dct\n",
        "\n",
        "ns = [\"x\", \"y\", \"z\", \"w\", \"p\"]\n",
        "dct = unique_parsings(ns, complex_expr)\n",
        "print(len(dct))\n",
        "# for pair_ in dct.items():\n",
        "#     print(pair_[0])\n",
        "\n",
        "#     print(*pair_[1], sep = \"\\n\")\n",
        "#     print(\"-\"*100)"
      ],
      "metadata": {
        "colab": {
          "base_uri": "https://localhost:8080/",
          "height": 0
        },
        "id": "fPqMaYeWJV33",
        "outputId": "fec9b812-d842-48bd-d188-4c80b5ec9c2a"
      },
      "execution_count": 215,
      "outputs": [
        {
          "output_type": "stream",
          "name": "stdout",
          "text": [
            "10\n"
          ]
        }
      ]
    },
    {
      "cell_type": "code",
      "source": [
        "ns = [\"x\", \"y\", \"z\", \"w\"]\n",
        "print(find_vector(\"N and N or N and not N\", ns))\n",
        "print(find_vector(\"((( N ) and N ) or N ) and not N\", ns))\n",
        "print(find_vector(\" N and ( N or ( N and not N ))\", ns))\n",
        "print(find_vector(\"N and ( ( N or  N ) and not N )\", ns))\n",
        "print(find_vector(\"( N and  ( N or  N ) ) and not N \", ns))"
      ],
      "metadata": {
        "colab": {
          "base_uri": "https://localhost:8080/",
          "height": 0
        },
        "id": "muKo4L20zhf5",
        "outputId": "12954569-1487-4c1c-963b-cc26de2d73c8"
      },
      "execution_count": 202,
      "outputs": [
        {
          "output_type": "stream",
          "name": "stdout",
          "text": [
            "[0, 0, 0, 1, 1, 1, 1, 1, 0, 0, 0, 1, 0, 0, 0, 1]\n",
            "[0, 0, 0, 1, 1, 1, 1, 1, 0, 0, 0, 0, 0, 0, 0, 0]\n",
            "[0, 0, 0, 1, 0, 1, 0, 1, 0, 0, 0, 1, 0, 0, 0, 1]\n",
            "[0, 0, 0, 1, 0, 1, 0, 1, 0, 0, 0, 0, 0, 0, 0, 0]\n",
            "[0, 0, 0, 1, 0, 1, 0, 1, 0, 0, 0, 0, 0, 0, 0, 0]\n"
          ]
        }
      ]
    },
    {
      "cell_type": "code",
      "source": [
        "def catalan(n):\n",
        "    if n <= 1:\n",
        "        return 1\n",
        "    res = 0\n",
        "    for i in range(n):\n",
        "        res += catalan(i) * catalan(n-i-1)\n",
        "    return res"
      ],
      "metadata": {
        "id": "BvxzD-r7Moiz"
      },
      "execution_count": 318,
      "outputs": []
    },
    {
      "cell_type": "markdown",
      "source": [
        "# final test to json"
      ],
      "metadata": {
        "id": "9APmryqlEJxA"
      }
    },
    {
      "cell_type": "code",
      "source": [
        "#expressions to check\n",
        "anon_exprs = gen_grammar_sequences(bool_expressions, d = 5)\n",
        "print(anon_exprs)\n",
        "len(anon_exprs)"
      ],
      "metadata": {
        "colab": {
          "base_uri": "https://localhost:8080/"
        },
        "id": "z57d8WH8ELvu",
        "outputId": "ad8cacea-94f1-47c9-b21f-5dc67857d656"
      },
      "execution_count": 376,
      "outputs": [
        {
          "output_type": "stream",
          "name": "stdout",
          "text": [
            "['N or N', 'N and N or N and N or N', 'N and N and N or N and N or N', 'N and N and N', 'N', 'N and N or N or N', 'N or N and N', 'N and N', 'N and N and N or N or N', 'N and N or N and N', 'N or N or N', 'N and N or N', 'N and N and N or N', 'N or N and N or N', 'N and N and N or N and N']\n"
          ]
        },
        {
          "output_type": "execute_result",
          "data": {
            "text/plain": [
              "15"
            ]
          },
          "metadata": {},
          "execution_count": 376
        }
      ]
    },
    {
      "cell_type": "code",
      "source": [
        "anon_exprs = anon_exprs\n",
        "experiments_per_exprs = 15\n",
        "\n",
        "\n",
        "for e in anon_exprs:\n",
        "  analysis = dict()\n",
        "  size = count_nouns(e)\n",
        "  nouns = random.sample(fruits, size)\n",
        "  base4 = {b[0]:(find_vector(b[1], nouns), b[1]) for b in four_parenthesize(e).items()} #{'dnf': ([0, 0, 0, 1, 0, 0, 0, 1, 0, 0, 0, 1, 1, 1, 1, 1], 'N and N or N and N'), 'cnf': ([0, 0, 0, 0, 0, 0, 0, 0, 0, 0, 0, 1, 0, 1, 0, 1], ' ( N  ) and (  N or N  ) and (  N ) '), 'left': ([0, 0, 0, 0, 0, 0, 0, 0, 0, 0, 0, 1, 1, 1, 1, 1], ' (  (  ( N and N ) or N ) and N ) '), 'right': ([0, 0, 0, 1, 0, 0, 0, 1, 0, 0, 0, 1, 0, 1, 0, 1], 'N and  ( N or  ( N and N )  ) ')}\n",
        "  interpretation_space = unique_parsings(nouns, e) #defaultdict(<class 'list'>, {'[0, 0, 0, 0, 0, 0, 0, 0, 0, 0, 0, 1, 0, 1, 0, 1]': ['N and ( N or N ) and N', '( ( N and ( N or N ) ) and N )', '( N and ( N or N ) and N )', '( N and ( N or N ) ) and N', '( N and ( ( N or N ) and N ) )', 'N and ( ( N or N ) and N )'], '[0, 0, 0, 1, 0, 0, 0, 1, 0, 0, 0, 1, 0, 1, 0, 1]': ['( N and ( N or N and N ) )', 'N and ( N or ( N and N ) )', '( N and ( N or ( N and N ) ) )', 'N and ( N or N and N )'], '[0, 0, 0, 1, 0, 0, 0, 1, 0, 0, 0, 1, 1, 1, 1, 1]': ['( ( N and N ) or N and N )', '( N and N or N and N )', '( N and N ) or ( N and N )', '( ( N and N ) or ( N and N ) )', '( N and N ) or N and N', 'N and N or ( N and N )', '( N and N or ( N and N ) )'], '[0, 0, 0, 0, 0, 0, 0, 0, 0, 0, 0, 1, 1, 1, 1, 1]': ['( N and N or N ) and N', '( ( ( N and N ) or N ) and N )', '( ( N and N or N ) and N )', '( ( N and N ) or N ) and N']})\n",
        "  #####################################\n",
        "  analysis['model'] = 'gpt-3.5'\n",
        "  analysis[\"#_of_terms\"] = size\n",
        "  analysis[\"base_four\"] = base4\n",
        "  analysis[\"interpretation_space\"] = interpretation_space\n",
        "  analysis[\"upper_bound\"] = catalan(size-1)\n",
        "  analysis[\"experiments\"] = dict()\n",
        "\n",
        "  for i in range(experiments_per_exprs): #20 sets of nouns per expression\n",
        "    print(e, i)\n",
        "    analysis[\"experiments\"][i] = dict()\n",
        "    analysis[\"experiments\"][i][\"nouns\"] = nouns\n",
        "    analysis[\"experiments\"][i][\"response\"] = []\n",
        "\n",
        "    v_m = []\n",
        "    power_set = gen_all_combos(nouns)\n",
        "    for p in power_set[::-1]:\n",
        "      resp = answer_qset(replace_nouns(e, nouns), delete_neg(p)) #{\"res\":res, \"q\": q, \"a\":a}\n",
        "\n",
        "      analysis[\"experiments\"][i][\"response\"].append(resp)\n",
        "\n",
        "      v_m.append(resp['res'][0])\n",
        "\n",
        "    analysis[\"experiments\"][i][\"model_vector\"] = v_m\n",
        "\n",
        "    is_results = dict()\n",
        "    for v_i in list(interpretation_space.keys()):\n",
        "      v_i = ast.literal_eval(v_i) #\"[1, 0]\" -> [1, 0]\n",
        "      confusion = confusion_matrix(v_m, v_i) # model vs reality\n",
        "      is_results[str(v_i)] = dict()\n",
        "      is_results[str(v_i)]['accuracy'] = confusion['accuracy']\n",
        "      is_results[str(v_i)]['f1'] = confusion['f1']\n",
        "      is_results[str(v_i)]['precision'] = confusion['precision']\n",
        "      is_results[str(v_i)]['recall'] = confusion['recall']\n",
        "      is_results[str(v_i)]['cosine'] = cosine(v_i, v_m)\n",
        "    four_base_results = dict()\n",
        "    for v_i in base4:\n",
        "      four_base_results[v_i] = dict()\n",
        "      four_base_results[v_i][\"interpretation\"] = base4[v_i][1]\n",
        "      four_base_results[v_i][\"vector\"] = base4[v_i][0]\n",
        "\n",
        "      confusion = confusion_matrix(v_m, base4[v_i][0]) # model vs reality\n",
        "      four_base_results[str(v_i)]['accuracy'] = confusion['accuracy']\n",
        "      four_base_results[str(v_i)]['f1'] = confusion['f1']\n",
        "      four_base_results[str(v_i)]['precision'] = confusion['precision']\n",
        "      four_base_results[str(v_i)]['recall'] = confusion['recall']\n",
        "      four_base_results[str(v_i)]['cosine'] = cosine(base4[v_i][0], v_m)\n",
        "    analysis[\"experiments\"][i][\"is_results\"] = is_results\n",
        "    analysis[\"experiments\"][i][\"4_base_results\"] = four_base_results\n",
        "  with open(\"/content/drive/MyDrive/X_ACL/Boolean resolution/boolean-resolution/\" + e +'.json', 'w', encoding='utf8') as outfile:\n",
        "    json.dump(analysis, outfile, indent=4, separators=(',', ': '))"
      ],
      "metadata": {
        "id": "zoeyJZC9WHIh",
        "colab": {
          "base_uri": "https://localhost:8080/"
        },
        "outputId": "cf8ecb84-0446-4bc5-82df-ec8925e7dd8d"
      },
      "execution_count": null,
      "outputs": [
        {
          "output_type": "stream",
          "name": "stdout",
          "text": [
            "N or N 0\n",
            "N or N 1\n",
            "N or N 2\n",
            "N or N 3\n",
            "N or N 4\n",
            "N or N 5\n",
            "N or N 6\n",
            "N or N 7\n",
            "N or N 8\n",
            "N or N 9\n",
            "N or N 10\n",
            "N or N 11\n",
            "N or N 12\n",
            "N or N 13\n",
            "N or N 14\n",
            "N and N or N and N or N 0\n",
            "N and N or N and N or N 1\n",
            "N and N or N and N or N 2\n",
            "N and N or N and N or N 3\n",
            "N and N or N and N or N 4\n",
            "N and N or N and N or N 5\n",
            "N and N or N and N or N 6\n",
            "N and N or N and N or N 7\n",
            "N and N or N and N or N 8\n",
            "N and N or N and N or N 9\n",
            "N and N or N and N or N 10\n"
          ]
        }
      ]
    }
  ]
}